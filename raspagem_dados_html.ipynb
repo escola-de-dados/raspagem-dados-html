{
  "nbformat": 4,
  "nbformat_minor": 0,
  "metadata": {
    "colab": {
      "name": "raspagem_dados_html.ipynb",
      "provenance": []
    },
    "kernelspec": {
      "name": "python3",
      "display_name": "Python 3.9.5 64-bit"
    },
    "language_info": {
      "name": "python",
      "version": "3.9.5",
      "mimetype": "text/x-python",
      "codemirror_mode": {
        "name": "ipython",
        "version": 3
      },
      "pygments_lexer": "ipython3",
      "nbconvert_exporter": "python",
      "file_extension": ".py"
    },
    "interpreter": {
      "hash": "916dbcbb3f70747c44a77c7bcd40155683ae19c65e1c03b4aa3499c5328201f1"
    }
  },
  "cells": [
    {
      "cell_type": "markdown",
      "metadata": {
        "id": "-b2YXbcBLgzl"
      },
      "source": [
        "* Este notebook é baseado no módulo facilitado por[Gabriela Cavalcante](https://github.com/gabicavalcante) no curso [Python para Inovação Cívica](https://escoladedados.org/courses/python-para-inovacao-civica/) da Escola de Dados. O material foi editado por Anicely Santos.*"
      ]
    },
    {
      "cell_type": "markdown",
      "metadata": {
        "id": "SMqYg3io6ghC"
      },
      "source": [
        "# **Extraindo dados HTML com Python**"
      ]
    },
    {
      "cell_type": "markdown",
      "metadata": {
        "id": "JspYEzkzV20t"
      },
      "source": [
        "Antes de mais nada, se você caiu aqui de paraquedas e não sabe bem como funciona o Python ou a biblioteca Pandas, [comece seus primeiros passos aqui](https://escoladedados.org/tutoriais/primeiros-passos-com-python-e-pandas-para-analise-de-dados/). Esse tutorial mostrará duas maneiras de coletar dados disponíveis na web: utilizando o pacote `requests-html` e a função `read_html` do Pandas.\n",
        "\n",
        "Esse notebook cobre os seguintes assuntos:\n",
        "\n",
        "*   O que é web scraping\n",
        "*   Arquivos HTML\n",
        "*   Pacote requests-html\n",
        " *  Instalando o pacote\n",
        " *  Conectando com uma URL\n",
        "*   Extraindo dados dos parlamentares do Rio de Janeiro\n",
        "*   Utilizando Pandas\n",
        "*   Extraindo dados dos parlamentares de Pernambuco\n",
        "\n"
      ]
    },
    {
      "cell_type": "markdown",
      "metadata": {
        "id": "TkxOLmJRZJEG"
      },
      "source": [
        "# O que é web scraping"
      ]
    },
    {
      "cell_type": "markdown",
      "metadata": {
        "id": "U6-wIt6uZUia"
      },
      "source": [
        "Web scraping basicamente é o processo de raspar ou extrair dados da web. Esse processo pode ser simples, como os métodos que veremos aqui), mas também pode ser um pouco mais complexo, envolvendo por exemplo sistemas com CAPTCHA, requisições mais complexas para o site e etc. Como este é um tutorial introdutório, optamos por mostrar alguns exemplos básicos.\n",
        "\n",
        "Geralmente, essa técnica é usada quando os dados que precisamos ainda não estão disponíveis de maneira aberta (em um CSV, por exemplo) para manipulação. Então, antes de raspar dados de algum site, certifique-se que a informação já não está disponível em dados abertos e estruturados.\n",
        "\n"
      ]
    },
    {
      "cell_type": "markdown",
      "metadata": {
        "id": "NEb84f8tcwmV"
      },
      "source": [
        "# Arquivos HTML"
      ]
    },
    {
      "cell_type": "markdown",
      "metadata": {
        "id": "OacmjHU-cx90"
      },
      "source": [
        "Um HTML (Hypertext Markup Language) é um arquivo simples de texto que utiliza tags para ajudar os navegadores a processar página Web. Em outras palavras, o HTML é como a estrutura de uma página web.\n",
        "\n",
        "Veja um exemplo de um código HTML:\n",
        "\n",
        "```html\n",
        "<html>\n",
        "<body>\n",
        "    <script></script>\n",
        "    <style>\n",
        "    </style>\n",
        "\n",
        "    <div id='pessoas'>\n",
        "        <h2>Pessoas:</h2>\n",
        "    </div>\n",
        "    <a href='#' id=\"novaPessoa\">Nova pessoa</a>\n",
        "\n",
        "    <div id='resultados'>\n",
        "        <h2>Resumo:</h2>\n",
        "    </div>\n",
        "    <script src=\"observacao.js\"></script>\n",
        "    <script src=\"insercao.js\"></script>\n",
        "</body>\n",
        "</html>\n",
        "\n",
        "```\n",
        "\n",
        "Como você pode ver, as tags (que estão entre os sinais `< >`) abrem e fecham, quando há uma barra após o `<`.\n",
        "\n",
        "Por exemplo: `<body>` abre a tag do corpo da página HTML e `</body>` a fecha. Tudo que estiver entre isso é considerado como parte do conteúdo HTML.\n",
        "\n",
        "Se você quiser ver o código HTML das páginas que navega, pressione simultaneamente as teclas `ctrl` + `Shift` + `i`. Assim, aparecerá no seu navegador as ferramentas do desenvolvedor. \n",
        "\n",
        "Nesse tutorial, como tabalharemos com dados que estão tabulados, trabalharemos principalmente com as tags `table` (tabela), `th` (table header ou cabeçalho), `tr` (table row ou linhas da tabela) e `td` (table data cell ou as células com os dados da tabela). Juntas, elas conseguem construir a estrutura básica de uma tabela: linhas e colunas.\n",
        "\n",
        "Para entender melhor uma estrutura HTML, [dê uma olhada nesse artigo](https://pt.wikipedia.org/wiki/HTML)."
      ]
    },
    {
      "cell_type": "markdown",
      "metadata": {
        "id": "ZVC36UCr2FO7"
      },
      "source": [
        "# Pacote requests-html"
      ]
    },
    {
      "cell_type": "markdown",
      "metadata": {
        "id": "TFJitd1o2LZ7"
      },
      "source": [
        "O pacote `requests-html` serve para extrair dados HTML de maneira simples. Com ele, você consegue pegar conteúdos de páginas web, independente de estarem ou não em uma estrutura tabular. \n",
        "\n",
        "Por sorte, os dados que queremos estão nesse formato, o que facilita muito o processo, mas se não estivesse, essa biblioteca conseguiria dar conta pois ela utiliza tanto tags HTML como [seletores CSS](https://developer.mozilla.org/en-US/docs/Web/CSS) para fazer a extração. Para entender detalhes sobre a biblioteca, [consulte a documentação](https://docs.python-requests.org/projects/requests-html/en/latest/).\n",
        "\n",
        "Nosso objetivo será extrair dados de parlamentares do Rio de Janeiro que estão na Wikipedia. \n",
        "\n",
        "\n",
        "\n"
      ]
    },
    {
      "cell_type": "markdown",
      "metadata": {
        "id": "yhB80W9rUI2Q"
      },
      "source": [
        "**Instalando a biblioteca**"
      ]
    },
    {
      "cell_type": "markdown",
      "metadata": {
        "id": "A5R4MVPrAkG2"
      },
      "source": [
        "Essa é uma biblioteca de terceiros e por esse motivo precisamos instala-la antes de fazer a importação. Para fazer a instação de qualquer biblioteca basta usar o instalador Python chamado `pip install` seguido do nome da biblioteca. \n",
        "\n",
        "Rode a célula a seguir para realizar essa importação: "
      ]
    },
    {
      "cell_type": "code",
      "metadata": {
        "id": "16T7odDq4sZs"
      },
      "source": [
        "!pip install requests-html"
      ],
      "execution_count": null,
      "outputs": []
    },
    {
      "cell_type": "markdown",
      "metadata": {
        "id": "-64fy3JV4D1b"
      },
      "source": [
        "Após instalado, reinicie o ambiente de execução clicando em `RESTART RUNTIME` na mensagem que aparece no final do instalação. "
      ]
    },
    {
      "cell_type": "markdown",
      "metadata": {
        "id": "UKeuuQ-mUhAP"
      },
      "source": [
        "**Conectando com a URL**"
      ]
    },
    {
      "cell_type": "markdown",
      "metadata": {
        "id": "Qb_7LtjlUmoz"
      },
      "source": [
        "Agora podemos importar a biblioteca e então conseguir pegar os dados que precisamos. Dessa biblioteca que instalamos, iremos utilizar o pacote HTMLSession. <p>Rode a célula a seguir para fazer essa importação:"
      ]
    },
    {
      "cell_type": "code",
      "metadata": {
        "id": "05etRTIM4Ev3"
      },
      "source": [
        "from requests_html import HTMLSession"
      ],
      "execution_count": 2,
      "outputs": []
    },
    {
      "cell_type": "markdown",
      "metadata": {
        "id": "eXLEfz7S6TUn"
      },
      "source": [
        "Vamos salvar o endereço do site que queremos dentro de uma url, dessa maneira temos um texto mais curto para trabalhar durante todo o código."
      ]
    },
    {
      "cell_type": "markdown",
      "metadata": {
        "id": "eU5ag-8TWllW"
      },
      "source": [
        "# Extraindo dados da agenda do gov RJ"
      ]
    },
    {
      "cell_type": "code",
      "metadata": {
        "id": "XsUvWbG0X20I"
      },
      "source": [
        "import pandas as pd"
      ],
      "execution_count": 13,
      "outputs": []
    },
    {
      "cell_type": "code",
      "metadata": {
        "id": "eJ4OO4bJWsR5"
      },
      "source": [
        "url = ('http://www.rj.gov.br/Agenda.aspx')"
      ],
      "execution_count": 3,
      "outputs": []
    },
    {
      "cell_type": "code",
      "metadata": {
        "id": "vG42pEYAXG91"
      },
      "source": [
        "session = HTMLSession()"
      ],
      "execution_count": 4,
      "outputs": []
    },
    {
      "cell_type": "code",
      "metadata": {
        "id": "lhZN2UVwXJ2H"
      },
      "source": [
        "r = session.get(url)"
      ],
      "execution_count": 5,
      "outputs": []
    },
    {
      "cell_type": "code",
      "metadata": {
        "id": "4Y_T0PDuXM_T"
      },
      "source": [
        "agenda = r.html.find('.noticias-wrap')"
      ],
      "execution_count": null,
      "outputs": []
    },
    {
      "cell_type": "code",
      "metadata": {
        "id": "ecR66GW6XP0t"
      },
      "source": [
        "agenda[3].text"
      ],
      "execution_count": null,
      "outputs": []
    },
    {
      "cell_type": "code",
      "metadata": {
        "id": "2tvcxrvzXbQo"
      },
      "source": [
        "#agenda[0].text.split('\\n')"
      ],
      "execution_count": null,
      "outputs": []
    },
    {
      "cell_type": "code",
      "metadata": {
        "colab": {
          "base_uri": "https://localhost:8080/"
        },
        "id": "7il0X58yXh71",
        "outputId": "70611237-475f-437f-cf6a-2f7c3e94df04"
      },
      "source": [
        "tamanho = len(agenda)\n",
        "tamanho"
      ],
      "execution_count": 12,
      "outputs": [
        {
          "output_type": "execute_result",
          "data": {
            "text/plain": [
              "239"
            ]
          },
          "metadata": {},
          "execution_count": 12
        }
      ]
    },
    {
      "cell_type": "code",
      "metadata": {
        "id": "3Q0X_fkfXnjG"
      },
      "source": [
        "compromisso = []\n",
        "for a in agenda[:tamanho]:\n",
        "  linha = {}\n",
        "\n",
        "  linha['dia'] = a.find('h1')[0].text\n",
        "  linha['descricao'] = a.find('p')[0].full_text\n",
        "\n",
        "  compromisso.append(linha)\n",
        "\n",
        "df = pd.DataFrame(compromisso)"
      ],
      "execution_count": 14,
      "outputs": []
    },
    {
      "cell_type": "code",
      "metadata": {
        "colab": {
          "base_uri": "https://localhost:8080/",
          "height": 203
        },
        "id": "i_KEk_E3X6PN",
        "outputId": "41bc75e9-8d46-4293-eb97-da358dc436e6"
      },
      "source": [
        "df.head()"
      ],
      "execution_count": 15,
      "outputs": [
        {
          "output_type": "execute_result",
          "data": {
            "text/html": [
              "<div>\n",
              "<style scoped>\n",
              "    .dataframe tbody tr th:only-of-type {\n",
              "        vertical-align: middle;\n",
              "    }\n",
              "\n",
              "    .dataframe tbody tr th {\n",
              "        vertical-align: top;\n",
              "    }\n",
              "\n",
              "    .dataframe thead th {\n",
              "        text-align: right;\n",
              "    }\n",
              "</style>\n",
              "<table border=\"1\" class=\"dataframe\">\n",
              "  <thead>\n",
              "    <tr style=\"text-align: right;\">\n",
              "      <th></th>\n",
              "      <th>dia</th>\n",
              "      <th>descricao</th>\n",
              "    </tr>\n",
              "  </thead>\n",
              "  <tbody>\n",
              "    <tr>\n",
              "      <th>0</th>\n",
              "      <td>16/09/2021 10:00</td>\n",
              "      <td></td>\n",
              "    </tr>\n",
              "    <tr>\n",
              "      <th>1</th>\n",
              "      <td>15/09/2021 17:00</td>\n",
              "      <td>Entrega do certificado com valores da concessã...</td>\n",
              "    </tr>\n",
              "    <tr>\n",
              "      <th>2</th>\n",
              "      <td>15/09/2021 16:00</td>\n",
              "      <td>Entrega do certificado com valores da concessã...</td>\n",
              "    </tr>\n",
              "    <tr>\n",
              "      <th>3</th>\n",
              "      <td>15/09/2021 14:30</td>\n",
              "      <td>Entrega do certificado com valores da concessã...</td>\n",
              "    </tr>\n",
              "    <tr>\n",
              "      <th>4</th>\n",
              "      <td>15/09/2021 10:00</td>\n",
              "      <td></td>\n",
              "    </tr>\n",
              "  </tbody>\n",
              "</table>\n",
              "</div>"
            ],
            "text/plain": [
              "                dia                                          descricao\n",
              "0  16/09/2021 10:00                                                   \n",
              "1  15/09/2021 17:00  Entrega do certificado com valores da concessã...\n",
              "2  15/09/2021 16:00  Entrega do certificado com valores da concessã...\n",
              "3  15/09/2021 14:30  Entrega do certificado com valores da concessã...\n",
              "4  15/09/2021 10:00                                                   "
            ]
          },
          "metadata": {},
          "execution_count": 15
        }
      ]
    },
    {
      "cell_type": "markdown",
      "metadata": {
        "id": "XGid7P8AWxDw"
      },
      "source": [
        "# parlamentares RJ"
      ]
    },
    {
      "cell_type": "code",
      "metadata": {
        "id": "Z3RKxXv-7clS"
      },
      "source": [
        "url = ('https://pt.wikipedia.org/wiki/Lista_de_parlamentares_do_Rio_de_Janeiro')\n"
      ],
      "execution_count": null,
      "outputs": []
    },
    {
      "cell_type": "markdown",
      "metadata": {
        "id": "l7GAZ1CC7lXa"
      },
      "source": [
        "O pacote HTMLSession para começar a trabalhar, precisa iniciar uma sessão. Dessa maneira conseguimos fazer \"pedidos de informação\" ao navegador."
      ]
    },
    {
      "cell_type": "code",
      "metadata": {
        "id": "dGxrU3jC71sD"
      },
      "source": [
        "session = HTMLSession()"
      ],
      "execution_count": null,
      "outputs": []
    },
    {
      "cell_type": "markdown",
      "metadata": {
        "id": "YEebaXZK8EHL"
      },
      "source": [
        "Com a sessão iniciada, podemos começar a fazer pedidos ao navegador e ele nos retorna a extração do HTML da página. Vamos dizer a sessão que esses pedidos acontecerão para o site que indicamos na variável `url`. Salvaremos essa informação na variável `r`."
      ]
    },
    {
      "cell_type": "code",
      "metadata": {
        "id": "Qn0ojfje8cZW"
      },
      "source": [
        "r = session.get(url)"
      ],
      "execution_count": null,
      "outputs": []
    },
    {
      "cell_type": "markdown",
      "metadata": {
        "id": "F8zu2m3w8qPl"
      },
      "source": [
        "Para saber se a solicitação deu certo, precisa apresentar o status 200. Se você não conhece os status de requisição HTTP, [vale conferir este artigo](https://developer.mozilla.org/pt-BR/docs/Web/HTTP/Status). \n",
        "\n",
        "Rode a célula a seguir para saber se deu tudo certo"
      ]
    },
    {
      "cell_type": "code",
      "metadata": {
        "colab": {
          "base_uri": "https://localhost:8080/"
        },
        "id": "28vOvd8XETx_",
        "outputId": "36b9f950-379d-49a8-a79c-e3ec3c2a3976"
      },
      "source": [
        "r"
      ],
      "execution_count": null,
      "outputs": [
        {
          "output_type": "execute_result",
          "data": {
            "text/plain": [
              "<Response [200]>"
            ]
          },
          "metadata": {},
          "execution_count": 6
        }
      ]
    },
    {
      "cell_type": "markdown",
      "metadata": {
        "id": "2EElBOHTEb3c"
      },
      "source": [
        "Ótimo! Já conseguimos estabelecer uma conexão. Agora podemos fazer inumeras operação utilizando essa solicitação contida na variável `r`. Esse é o grande trunfo de utilizar variáveis."
      ]
    },
    {
      "cell_type": "markdown",
      "metadata": {
        "id": "n5Dc1MVtE1tQ"
      },
      "source": [
        "# Extraindo os dados de parlamentares do Rio de Janeiro"
      ]
    },
    {
      "cell_type": "markdown",
      "metadata": {
        "id": "_mz6SI_8E7Jp"
      },
      "source": [
        "Como falado anteriormente, a biblioteca funciona utilizando tags HTML, que são passada com argumentos dentro dos métodos. Por exemplo, suponhamos que queremos saber o conteudo das tabelas, podemos usar o método `find()` para isso. Como previamente sabemos que é na tag `table` que está o conteúdo que queremos, vamos passar ela como argumento entre aspas, dentro do parênteses."
      ]
    },
    {
      "cell_type": "code",
      "metadata": {
        "colab": {
          "base_uri": "https://localhost:8080/"
        },
        "id": "ns2IDCBRW6w1",
        "outputId": "3c2c5fd7-195a-4117-9dd0-fb3c31feb74a"
      },
      "source": [
        "r.html.find('table')"
      ],
      "execution_count": null,
      "outputs": [
        {
          "output_type": "execute_result",
          "data": {
            "text/plain": [
              "[<Element 'table' class=('wikitable',) style='font-size: 85%;'>,\n",
              " <Element 'table' class=('wikitable',) style='font-size: 85%;'>,\n",
              " <Element 'table' class=('wikitable',) style='font-size: 85%;'>,\n",
              " <Element 'table' class=('wikitable',) style='font-size: 85%;'>,\n",
              " <Element 'table' class=('wikitable',) style='font-size: 85%;'>,\n",
              " <Element 'table' class=('wikitable',) style='font-size: 85%;'>,\n",
              " <Element 'table' class=('nowraplinks', 'collapsible', 'autocollapse', 'navbox-inner') style='border-spacing:0;background:transparent;color:inherit'>,\n",
              " <Element 'table' class=('nowraplinks', 'collapsible', 'autocollapse', 'navbox-inner') style='border-spacing:0;background:transparent;color:inherit'>,\n",
              " <Element 'table' class=('nowraplinks', 'collapsible', 'show', 'navbox-inner') style='border-spacing:0;background:transparent;color:inherit'>]"
            ]
          },
          "metadata": {},
          "execution_count": 7
        }
      ]
    },
    {
      "cell_type": "markdown",
      "metadata": {
        "id": "ACOgkl5_W30A"
      },
      "source": [
        " Salvaremos essas informações na variável `tables`."
      ]
    },
    {
      "cell_type": "code",
      "metadata": {
        "id": "walLin74Gctd"
      },
      "source": [
        "tables = r.html.find('table')"
      ],
      "execution_count": null,
      "outputs": []
    },
    {
      "cell_type": "markdown",
      "metadata": {
        "id": "U3HExgmvGzO1"
      },
      "source": [
        "Antes de usar a variável para o objetivo principal de extrair dados, vamos conhecer alguns métodos dessa biblioteca. \n",
        "\n",
        "Você viu que ao usar o `find` procurando pela tag `table`, o método encontrou várias tags com esse nome. Suponhamos que você queira que ele traga apenas uma, basta passar o parâmetro `first` como `True`. Por padrão está `False`, por isso que ele trás como resultado todas as tags que ele encontra com o nome que foi indicado para busca."
      ]
    },
    {
      "cell_type": "code",
      "metadata": {
        "colab": {
          "base_uri": "https://localhost:8080/"
        },
        "id": "x86N2SQuE0GL",
        "outputId": "b769b2ca-7542-414c-d6d8-c4052ba86ec0"
      },
      "source": [
        "r.html.find('table', first=True)"
      ],
      "execution_count": null,
      "outputs": [
        {
          "output_type": "execute_result",
          "data": {
            "text/plain": [
              "<Element 'table' class=('wikitable',) style='font-size: 85%;'>"
            ]
          },
          "metadata": {},
          "execution_count": 9
        }
      ]
    },
    {
      "cell_type": "markdown",
      "metadata": {
        "id": "PMCM5xDdHHU5"
      },
      "source": [
        "É possivel fazer uma busca mais específica, fazendo busca por palavras dentro das tags. No nosso caso, procuraremos alguma tag `table` que contenha a palavra *deputado*. Para ajudar na busca, se for o nome que está em uma coluna (como no nosso exemplo), é importante passar o nome da mesma maneira que está escrito, respeitando a diferenciação entre maiúsculas e minúsculas."
      ]
    },
    {
      "cell_type": "code",
      "metadata": {
        "colab": {
          "base_uri": "https://localhost:8080/"
        },
        "id": "_kGi0bS4Hhwx",
        "outputId": "db448fbd-686d-4b2f-ad45-9d9a1f5d2510"
      },
      "source": [
        "r.html.find('table', containing='Deputados')"
      ],
      "execution_count": null,
      "outputs": [
        {
          "output_type": "execute_result",
          "data": {
            "text/plain": [
              "[<Element 'table' class=('wikitable',) style='font-size: 85%;'>,\n",
              " <Element 'table' class=('wikitable',) style='font-size: 85%;'>,\n",
              " <Element 'table' class=('wikitable',) style='font-size: 85%;'>]"
            ]
          },
          "metadata": {},
          "execution_count": 10
        }
      ]
    },
    {
      "cell_type": "markdown",
      "metadata": {
        "id": "rWObIO3oIQJS"
      },
      "source": [
        "Caso você precise encontrar textos, utilize o método `search`, passando o caracter inicial e o final do texto que você procura.\n",
        "\n",
        "Nesse exemplo estamos procurando algum texto que esteja entre parênteses. As chaves no meio é obrigatório e simboliza o texto que ainda não sabemos qual é, mas que será encontrado entre parenteses. "
      ]
    },
    {
      "cell_type": "code",
      "metadata": {
        "colab": {
          "base_uri": "https://localhost:8080/"
        },
        "id": "XTLYbteSIpjl",
        "outputId": "687f83d2-72dc-4a69-ec6b-3210b6ebf8eb"
      },
      "source": [
        "r.html.search('({})')"
      ],
      "execution_count": null,
      "outputs": [
        {
          "output_type": "execute_result",
          "data": {
            "text/plain": [
              "<Result ('1891–1960',) {}>"
            ]
          },
          "metadata": {},
          "execution_count": 11
        }
      ]
    },
    {
      "cell_type": "markdown",
      "metadata": {
        "id": "Kj2vKiAYZ1k8"
      },
      "source": [
        "O conteúdo que substituiu as chaves foram `1891-1960` que segundo a busca é um conteúdo que originalmente está entre parênteses."
      ]
    },
    {
      "cell_type": "markdown",
      "metadata": {
        "id": "TXKlF01YKVUE"
      },
      "source": [
        "Voltando a utilização da variável `tables` que criamos, os resultados são salvos em uma lista. Os dados dentro de uma lista são organizados por índice que inicia a contagem a partir do 0. \n",
        "\n",
        "Para pegar apenas um resultado dentro de uma lista, basta passar o nome da variável que contém a lista, seguido do índice entre colchetes. Como queremos pegar a tabela com dados dos deputados federais, a página da wikipedia indica que é a tabela 6, logo o índice 5 da lista.\n",
        "\n",
        "Incluiremos o `.text` para conseguir visualizar melhor o conteúdo. "
      ]
    },
    {
      "cell_type": "code",
      "metadata": {
        "colab": {
          "base_uri": "https://localhost:8080/",
          "height": 120
        },
        "id": "LKzdxwMkNQ-Y",
        "outputId": "76995129-c890-46f7-98e0-9dd14e4172c0"
      },
      "source": [
        "tables[5].text"
      ],
      "execution_count": null,
      "outputs": [
        {
          "output_type": "execute_result",
          "data": {
            "application/vnd.google.colaboratory.intrinsic+json": {
              "type": "string"
            },
            "text/plain": [
              "\"Deputados federais eleitos\\nNaturalidade\\nMandatos\\nAno da eleição\\nSimão Sessim\\nRio de Janeiro, RJ\\n10\\n1978, 1982, 1986, 1990, 1994, 1998, 2002, 2006, 2010, 2014\\nMiro Teixeira\\nRio de Janeiro, RJ\\n9\\n1978, 1986, 1990, 1994, 1998, 2002, 2006, 2010, 2014\\nArolde de Oliveira\\nSão Luís Gonzaga, RS\\n8\\n1986, 1990, 1994, 1998, 2002, 2006, 2010, 2014\\nDaso Coimbra\\nRio de Janeiro, RJ\\n7\\n1962, 1966, 1970, 1974, 1978, 1982, 1986\\nJair Bolsonaro[nota 21]\\nGlicério, SP\\n7\\n1990, 1994, 1998, 2002, 2006, 2010, 2014\\nJandira Feghali\\nCuritiba, PR\\n7\\n1990, 1994, 1998, 2002, 2010, 2014, 2018\\nJosé Maurício\\nCampos dos Goytacases, RJ\\n6\\n1974, 1978, 1982, 1986, 1990, 1994\\nRubem Medina\\nRio de Janeiro, RJ\\n6\\n1978, 1982, 1986, 1990, 1994, 1998\\nRoberto Jefferson\\nPetrópolis, RJ\\n6\\n1982, 1986, 1990, 1994, 1998, 2002\\nRodrigo Maia\\nSantiago, CHI\\n6\\n1998, 2002, 2006, 2010, 2014, 2018\\nBrígido Tinoco\\nNiterói, RJ\\n5\\n1945, 1950, 1958, 1970, 1974\\nGetúlio de Moura\\nItaguaí, RJ\\n5\\n1945, 1950, 1954, 1962, 1966\\nBocaiuva Cunha\\nRio de Janeiro, RJ\\n5\\n1958, 1962, 1982, 1986, 1990\\nAlair Ferreira[nota 22]\\nSacramento, MG\\n5\\n1970, 1974, 1978, 1982, 1986\\nOsmar Leitão\\nSão Gonçalo, RJ\\n5\\n1970, 1974, 1978, 1982, 1986\\nÁlvaro Valle[nota 23]\\nRio de Janeiro, RJ\\n5\\n1978, 1982, 1986, 1990, 1994\\nBenedita da Silva\\nRio de Janeiro, RJ\\n5\\n1986, 1990, 2010, 2014, 2018\\nFrancisco Dornelles\\nBelo Horizonte, MG\\n5\\n1986, 1990, 1994, 1998, 2002\\nCarlos Santana\\nVila Velha, ES\\n5\\n1990, 1994, 1998, 2002, 2006\\nAlexandre Cardoso\\nDuque de Caxias, RJ\\n5\\n1994, 1998, 2002, 2006, 2010\\nAlexandre Santos\\nSão Gonçalo, RJ\\n5\\n1994, 1998, 2002, 2006, 2010\\nLuiz Sérgio\\nAngra dos Reis, RJ\\n5\\n1998, 2002, 2006, 2010, 2014\\nCelso Peçanha\\nCampos dos Goytacazes, RJ\\n4\\n1950, 1954, 1978, 1982\\nEdilberto Castro\\nQuissamã, RJ\\n4\\n1950, 1954, 1958, 1962\\nJosé Pedroso\\nSalvador, BA\\n4\\n1950, 1954, 1958, 1962\\nTenório Cavalcanti\\nPalmeira dos Índios, AL\\n4\\n1950, 1954, 1958, 1962\\nRaimundo Padilha\\nFortaleza, CE\\n4\\n1954, 1958, 1962, 1966\\nAdolfo Oliveira\\nPetrópolis, RJ\\n4\\n1962, 1966, 1970, 1986\\nAmaral Netto\\nNiterói, RJ\\n4\\n1982, 1986, 1990, 1994\\nRonaldo Cezar Coelho\\nRio de Janeiro, RJ\\n4\\n1986, 1994, 1998, 2002\\nFernando Lopes\\nRio de Janeiro, RJ\\n4\\n1990, 1994, 2002, 2006\\nNelson Bornier\\nRio de Janeiro, RJ\\n4\\n1990, 1994, 2002, 2006\\nEdson Ezequiel\\nRecife, PE\\n4\\n1994, 2002, 2006, 2010\\nFernando Gabeira\\nJuiz de Fora, MG\\n4\\n1994, 1998, 2002, 2006\\nJorge Bittar\\nSantos, SP\\n4\\n1998, 2002, 2006, 2010\\nPaulo Feijó\\nSanta Maria Madalena, RJ\\n4\\n1998, 2002, 2010, 2014\\nChico Alencar\\nRio de Janeiro, RJ\\n4\\n2002, 2006, 2010, 2014\\nEduardo Cunha[nota 24]\\nRio de Janeiro, RJ\\n4\\n2002, 2006, 2010, 2014\\nLeonardo Picciani\\nNilópolis, RJ\\n4\\n2002, 2006, 2010, 2014\\nHugo Leal\\nOuro Fino, MG\\n4\\n2006, 2010, 2014, 2018\\nAmaral Peixoto\\nRio de Janeiro, RJ\\n3\\n1945, 1962, 1966\\nSaturnino Braga[nota 25]\\nCampos dos Goytacazes, RJ\\n3\\n1950, 1954, 1958\\nAugusto de Gregório\\nParaíba do Sul, RJ\\n3\\n1954, 1958, 1962\\nAfonso Celso\\nCampos dos Goytacazes, RJ\\n3\\n1958, 1962, 1966\\nMário Tamborindeguy\\nPelotas, RS\\n3\\n1958, 1962, 1966\\nÁrio Teodoro\\nRio de Janeiro, RJ\\n3\\n1962, 1970, 1974\\nJosé Sally\\nItaocara, RJ\\n3\\n1966, 1970, 1974\\nLuís de Araújo Braz\\nItaocara, RJ\\n3\\n1966, 1970, 1974\\nJosé Peixoto Filho\\nRio de Janeiro, RJ\\n3\\n1970, 1974, 1978\\nWalter da Silva\\nCampos dos Goytacazes, RJ\\n3\\n1970, 1974, 1978\\nDarcílio Ayres\\nNova Iguaçu, RJ\\n3\\n1974, 1978, 1982\\nLeônidas Sampaio\\nPetrópolis, RJ\\n3\\n1974, 1978, 1982\\nMoreira Franco\\nTeresina, PI\\n3\\n1974, 1994, 2002\\nBrandão Monteiro\\nRosário, MA\\n3\\n1982, 1986, 1990\\nJosé Carlos Coutinho\\nTaubaté, SP\\n3\\n1986, 1990, 1998\\nVivaldo Barbosa\\nManhumirim, MG\\n3\\n1986, 1990, 1998\\nAldir Cabral\\nRio de Janeiro, RJ\\n3\\n1990, 1994, 1998\\nFrancisco Silva\\nCunha, SP\\n3\\n1990, 1994, 1998\\nJoão Mendes\\nAlagoa Grande, PB\\n3\\n1990, 1994, 1998\\nLaura Carneiro\\nRio de Janeiro, RJ\\n3\\n1994, 1998, 2002\\nDeley Oliveira\\nVolta Redonda, RJ\\n3\\n2002, 2006, 2014\\nJúlio Lopes\\nRio de Janeiro, RJ\\n3\\n2002, 2010, 2014\\nChico d'Ângelo\\nCampos dos Goytacazes, RJ\\n3\\n2006, 2014, 2018\\nFelipe Bornier\\nNova Iguaçu, RJ\\n3\\n2006, 2010, 2014\\nOtávio Leite\\nAracaju, SE\\n3\\n2006, 2010, 2014\\nAlessandro Molon\\nBelo Horizonte, MG\\n3\\n2010, 2014, 2018\\nÁureo Ribeiro\\nDuque de Caxias, RJ\\n3\\n2010, 2014, 2018\\nGlauber Braga\\nNova Friburgo, RJ\\n3\\n2010, 2014, 2018\\nJean Wyllys[10][11][nota 26]\\nAlagoinhas, BA\\n3\\n2010, 2014, 2018\\nPedro Paulo\\nRio de Janeiro, RJ\\n3\\n2010, 2014, 2018\\nCarlos Pinto Filho\\nPorciúncula, RJ\\n2\\n1945, 1954\\nMiguel Couto Filho\\nRio de Janeiro, RJ\\n2\\n1945, 1950\\nPrado Kelly\\nNiterói, RJ\\n2\\n1945, 1954\\nSoares Filho\\nVassouras, RJ\\n2\\n1945, 1950\\nSalo Brand\\nRio de Janeiro, RJ\\n2\\n1950, 1958\\nAarão Steinbruch\\nSanta Maria, RS\\n2\\n1954, 1958\\nHeli Ribeiro Gomes\\nCampos dos Goytacazes, RJ\\n2\\n1958, 1962\\nPaiva Muniz\\nMacaé, RJ\\n2\\n1958, 1962\\nEdésio Nunes\\nRio de Janeiro, RJ\\n2\\n1962, 1966\\nEmanuel Waismann\\nRio de Janeiro, RJ\\n2\\n1962, 1974\\nDayl de Almeida\\nRio de Janeiro, RJ\\n2\\n1966, 1970\\nRozendo de Souza\\nLavras, MG\\n2\\n1966, 1970\\nAlberto Lavinas\\nTrês Rios, RJ\\n2\\n1970, 1974\\nHamilton Xavier\\nNiterói, RJ\\n2\\n1970, 1982\\nJosé Haddad\\nNova Iguaçu, RJ\\n2\\n1970, 1974\\nEduardo Galil\\nTrajano de Moraes, RJ\\n2\\n1974, 1982\\nHydekel de Freitas[nota 27]\\nPorciúncula, RJ\\n2\\n1974, 1978\\nJoel Lima\\nManhumirim, MG\\n2\\n1974, 1978\\nOsvaldo Lima\\nRio de Janeiro, RJ\\n2\\n1974, 1978\\nDélio dos Santos\\nRio de Janeiro, RJ\\n2\\n1978, 1982\\nJ. G. de Araújo Jorge\\nTarauacá, AC\\n2\\n1978, 1982\\nJorge Cury\\nNiterói, RJ\\n2\\n1978, 1982\\nJosé Frejat\\nCururupu, MA\\n2\\n1978, 1982\\nLázaro de Carvalho\\nSão Sebastião do Paraíso, MG\\n2\\n1978, 1982\\nLéo Simões\\nSantos Dumont, MG\\n2\\n1978, 1982\\nMarcelo Medeiros\\nJuiz de Fora, MG\\n2\\n1978, 1982\\nMárcio Macedo\\nTrês Rios, RJ\\n2\\n1978, 1982\\nSaramago Pinheiro\\nNiterói, RJ\\n2\\n1978, 1982\\nAloysio Teixeira[nota 28]\\nRio de Janeiro, RJ\\n2\\n1982, 1986\\nDenisar Arneiro\\nTrês Rios, RJ\\n2\\n1982, 1986\\nGustavo de Faria[nota 29]\\nRio de Janeiro, RJ\\n2\\n1982, 1986\\nJorge Leite\\nRio de Janeiro, RJ\\n2\\n1982, 1986\\nMarcio Braga\\nRio de Janeiro, RJ\\n2\\n1982, 1986\\nArtur da Távola\\nRio de Janeiro, RJ\\n2\\n1986, 1990\\nCesar Maia\\nRio de Janeiro, RJ\\n2\\n1986, 1990\\nEdmilson Valentim\\nRio de Janeiro, RJ\\n2\\n1986, 2006\\nFábio Raunheitti\\nNova Iguaçu, RJ\\n2\\n1986, 1990\\nFlavio Palmier da Veiga\\nNiterói, RJ\\n2\\n1986, 1990\\nLuiz Salomão\\nRio de Janeiro, RJ\\n2\\n1986, 1990\\nPaulo Ramos\\nRio de Janeiro, RJ\\n2\\n1986, 2018\\nSandra Cavalcanti\\nBelém, PA\\n2\\n1986, 1990\\nVladimir Palmeira\\nMaceió, AL\\n2\\n1986, 1990\\nCarlos Alberto Campista\\nCampos dos Goytacazes, RJ\\n2\\n1990, 1994\\nCidinha Campos\\nSão Paulo, SP\\n2\\n1990, 1994\\nJosé Egídio\\nItaperuna, RJ\\n2\\n1990, 1994\\nLaprovita Vieira\\nVassouras, RJ\\n2\\n1990, 1994\\nMárcia Cibilis Viana\\nPorto Alegre, RS\\n2\\n1990, 1994\\nRoberto Campos\\nCuiabá, MT\\n2\\n1990, 1994\\nSérgio Arouca\\nRibeirão Preto, SP\\n2\\n1990, 1994\\nEurico Miranda\\nRio de Janeiro, RJ\\n2\\n1994, 1998\\nFernando Gonçalves\\nNova Iguaçu, RJ\\n2\\n1994, 1998\\nJorge Wilson de Matos\\nRio de Janeiro, RJ\\n2\\n1994, 1998\\nLindberg Farias\\nJoão Pessoa, PB\\n2\\n1994, 2002\\nMárcio Fortes\\nBelo Horizonte, MG\\n2\\n1994, 1998\\nMilton Temer\\nRio de Janeiro, RJ\\n2\\n1994, 1998\\nSilvio Lopes\\nRio de Janeiro, RJ\\n2\\n1994, 2006\\nAlmerinda de Carvalho\\nCampos dos Goytacazes, RJ\\n2\\n1998, 2002\\nCarlos Rodrigues\\nRio de Janeiro, RJ\\n2\\n1998, 2002\\nEduardo Paes\\nRio de Janeiro, RJ\\n2\\n1998, 2002\\nHeleno de Lima\\nCampina Grande, PB\\n2\\n1998, 2002\\nPaulo Baltazar\\nRio de Janeiro, RJ\\n2\\n1998, 2002\\nBernardo Ariston\\nRio de Janeiro, RJ\\n2\\n2002, 2006\\nSandro Matos\\nSão João de Meriti, RJ\\n2\\n2002, 2006\\nAdilson Soares\\nMuniz Freire, ES\\n2\\n2006, 2010\\nAndreia Zito\\nDuque de Caxias, RJ\\n2\\n2006, 2010\\nEdson Santos\\nRio de Janeiro, RJ\\n2\\n2006, 2010\\nFilipe Pereira\\nRio de Janeiro, RJ\\n2\\n2006, 2010\\nIndio da Costa\\nRio de Janeiro, RJ\\n2\\n2006, 2014\\nNeilton Mulim\\nRio de Janeiro, RJ\\n2\\n2006, 2010\\nFrancisco Floriano\\nRio de Janeiro, RJ\\n2\\n2010, 2014\\nMarcelo Matos\\nSão João de Meriti, RJ\\n2\\n2010, 2014\\nSergio Zveiter\\nNiterói, RJ\\n2\\n2010, 2014\\nWashington Reis\\nDuque de Caxias, RJ\\n2\\n2010, 2014\\nAlexandre Serfiotis[12][13][nota 30]\\nPorto Real, RJ\\n2\\n2014, 2018\\nAltineu Cortes\\nNiterói, RJ\\n2\\n2014, 2018\\nClarissa Garotinho\\nCampos dos Goytacazes, RJ\\n2\\n2014, 2018\\nRosângela Gomes\\nRio de Janeiro, RJ\\n2\\n2014, 2018\\nSoraya Santos\\nMacaé, RJ\\n2\\n2014, 2018\\nSóstenes Cavalcante\\nMaceió, AL\\n2\\n2014, 2018\\nAcúrcio Torres\\nCantagalo, RJ\\n1\\n1945\\nAlcides Sabença\\nBarra do Piraí, RJ\\n1\\n1945\\nBastos Tavares\\nCampos dos Goytacazes, RJ\\n1\\n1945\\nClaudino Silva\\nNatividade, RJ\\n1\\n1945\\nEduardo Duvivier\\nRio de Janeiro, RJ\\n1\\n1945\\nHeitor Collet\\nSão Fidélis, RJ\\n1\\n1945\\nJosé Leomil\\nNiterói, RJ\\n1\\n1945\\nPaulo Fernandes\\nPorto Alegre, RS\\n1\\n1945\\nRomão Júnior\\nMagé, RJ\\n1\\n1945\\nAberlardo Mata\\nRio de Janeiro, RJ\\n1\\n1950\\nCarlos Roberto\\nRio de Janeiro, RJ\\n1\\n1950\\nFlávio Castrioto\\nNiterói, RJ\\n1\\n1950\\nGaldino do Vale\\nTrajano de Moraes, RJ\\n1\\n1950\\nHelio de Macedo Soares\\nRio de Janeiro, RJ\\n1\\n1950\\nOsvaldo Fonseca\\nValença, RJ\\n1\\n1950\\nParanhos de Oliveira\\nSão Luís Gonzaga, RS\\n1\\n1950\\nAgenor Barcelos Feio\\nSão Borja, RS\\n1\\n1954\\nAlberto Torres\\nNiterói, RJ\\n1\\n1954\\nArino de Matos\\nAraruama, RJ\\n1\\n1954\\nBartolomeu Lisandro\\nCampos dos Goytacazes, RJ\\n1\\n1954\\nJonas Bahiense\\nCachoeiro de Itapemirim, ES\\n1\\n1954\\nJosé Alves\\nCampos dos Goytacazes, RJ\\n1\\n1954\\nMoacir Azevedo\\nCambuci, RJ\\n1\\n1958\\nPereira Pinto\\nCampos dos Goytacazes, RJ\\n1\\n1958\\nVasconcelos Torres\\nCampos dos Goytacazes, RJ\\n1\\n1958\\nAdão Pereira Nunes\\nCampos dos Goytacazes, RJ\\n1\\n1962\\nDemistoclides Batista\\nCachoeiro de Itapemirim, ES\\n1\\n1962\\nGeremias Fontes\\nSão Gonçalo, RJ\\n1\\n1962\\nSaturnino Braga\\nRio de Janeiro, RJ\\n1\\n1962\\nAltair Lima\\nRio de Janeiro, RJ\\n1\\n1966\\nEdgar de Almeida\\nSanto Antônio de Pádua, RJ\\n1\\n1966\\nGlênio Martins\\nRio de Janeiro, RJ\\n1\\n1966\\nJosé Maria Ribeiro\\nNatividade, RJ\\n1\\n1966\\nJúlia Steinbruch[nota 10]\\nRio de Janeiro, RJ\\n1\\n1966\\nMário de Abreu\\nRio de Janeiro, RJ\\n1\\n1966\\nPaulo Biar\\nRio de Janeiro, RJ\\n1\\n1966\\nRockfeller de Lima\\nCampos dos Goytacazes, RJ\\n1\\n1966\\nSadi Bogado\\nNova Friburgo, RJ\\n1\\n1966\\nJosé da Silva Barros\\nJuazeiro do Norte, CE\\n1\\n1970\\nMárcio Paes\\nCampos dos Goytacazes, RJ\\n1\\n1970\\nMoacir Chiesse\\nBarra Mansa, RJ\\n1\\n1970\\nAbdon Gonçalves\\nSão João de Meriti, RJ\\n1\\n1974\\nMilton Steinbruch\\nRio de Janeiro, RJ\\n1\\n1974\\nAlcir Pimenta\\nRio de Janeiro, RJ\\n1\\n1978\\nAmâncio Azevedo[nota 31]\\nNova Friburgo, RJ\\n1\\n1978\\nBenjamin Farah[nota 32]\\nCorumbá, MS\\n1\\n1978\\nCélio Borja\\nRio de Janeiro, RJ\\n1\\n1978\\nDaniel Silva\\nRio de Janeiro, RJ\\n1\\n1978\\nEdson Khair\\nRio de Janeiro, RJ\\n1\\n1978\\nErasmo Martins Pedro[nota 33]\\nRio de Janeiro, RJ\\n1\\n1978\\nFelipe Pena\\nBelo Horizonte, MG\\n1\\n1978\\nFlorim Coutinho\\nRio de Janeiro, RJ\\n1\\n1978\\nJoel Vivas\\nMagé, RJ\\n1\\n1978\\nJorge Gama\\nRio de Janeiro, RJ\\n1\\n1978\\nJosé Maria de Carvalho\\nRio de Janeiro, RJ\\n1\\n1978\\nJosé Torres\\nItaboraí, RJ\\n1\\n1978\\nLígia Bastos\\nRio de Janeiro, RJ\\n1\\n1978\\nMac Dowell de Castro\\nRio de Janeiro, RJ\\n1\\n1978\\nMarcelo Cerqueira\\nRio de Janeiro, RJ\\n1\\n1978\\nModesto da Silveira\\nUberlândia, MG\\n1\\n1978\\nPaulo Rattes\\nPetrópolis, RJ\\n1\\n1978\\nPaulo Torres\\nCantagalo, RJ\\n1\\n1978\\nPedro Faria\\nRio de Janeiro, RJ\\n1\\n1978\\nRubem Dourado\\nIrecê, BA\\n1\\n1978\\nAgnaldo Timóteo\\nCaratinga, MG\\n1\\n1982\\nArildo Teles\\nAracaju, SE\\n1\\n1982\\nCarlos Peçanha\\nCampos dos Goytacazes, RJ\\n1\\n1982\\nCelso Peçanha\\nCampos dos Goytacazes, RJ\\n1\\n1982\\nClemir Ramos\\nRio de Janeiro, RJ\\n1\\n1982\\nFernando Carvalho\\nRio de Janeiro, RJ\\n1\\n1982\\nFigueiredo Filho\\nRio Grande do Sul, RS\\n1\\n1982\\nFrancisco Studart\\nFortaleza, CE\\n1\\n1982\\nJacques d'Ornellas\\nSão Borja, RS\\n1\\n1982\\nJiulio Caruso[nota 34]\\nVolta Redonda, RJ\\n1\\n1982\\nJosé Colagrossi\\nItapuí, SP\\n1\\n1982\\nJosé Eudes\\nParnamirim, PE\\n1\\n1982\\nMário Juruna\\nBarra do Garças, MT\\n1\\n1982\\nSebastião Ataíde\\nAraruna, PB\\n1\\n1982\\nSebastião Nery\\nJaguaquara, BA\\n1\\n1982\\nWalter Casanova\\nSantana do Livramento, RS\\n1\\n1982\\nWilmar Palis\\nUberaba, MG\\n1\\n1982\\nAna Maria Rattes\\nRio de Janeiro, RJ\\n1\\n1986\\nCarlos Alberto Caó\\nSalvador, BA\\n1\\n1986\\nEdésio Frias\\nMoreno, PE\\n1\\n1986\\nFeres Nader\\nBananal, SP\\n1\\n1986\\nJosé Luís de Sá\\nVolta Redonda, RJ\\n1\\n1986\\nJuarez Antunes[nota 35]\\nEstrela Dalva, MG\\n1\\n1986\\nLysâneas Maciel\\nPatos de Minas, MG\\n1\\n1986\\nMessias Soares\\nBelo Horizonte, MG\\n1\\n1986\\nNoel de Carvalho[nota 35]\\nResende, RJ\\n1\\n1986\\nOsvaldo Almeida\\nCampos dos Goytacazes, RJ\\n1\\n1986\\nRoberto Augusto\\nTrês Lagoas, MS\\n1\\n1986\\nRoberto d'Ávila[nota 36]\\nSão Paulo, SP\\n1\\n1986\\nSotero Cunha\\nNatal, RN\\n1\\n1986\\nCarlos Lupi\\nCampinas, SP\\n1\\n1990\\nJamil Haddad\\nRio de Janeiro, RJ\\n1\\n1990\\nJosé Vicente Brizola\\nPorto Alegre, RS\\n1\\n1990\\nJunot Abi Ramia\\nRio de Janeiro, RJ\\n1\\n1990\\nPaulo de Almeida\\nRio de Janeiro, RJ\\n1\\n1990\\nPaulo Portugal\\nBom Jesus do Itabapoana, RJ\\n1\\n1990\\nRegina Gordilho\\nSalvador, BA\\n1\\n1990\\nSérgio Cury\\nRio de Janeiro, RJ\\n1\\n1990\\nSidney de Miguel\\nAraçatuba, SP\\n1\\n1990\\nWanda Reis\\nRio de Janeiro, RJ\\n1\\n1990\\nCandinho Matos\\nSão João de Meriti, RJ\\n1\\n1994\\nEduardo Mascarenhas\\nRio de Janeiro, RJ\\n1\\n1994\\nItamar Serpa\\nVitória, ES\\n1\\n1994\\nJosé Carlos Lacerda\\nRio de Janeiro, RJ\\n1\\n1994\\nMaria da Conceição Tavares\\nAnadia, POR\\n1\\n1994\\nNoel de Oliveira\\nResende, RJ\\n1\\n1994\\nProcópio Lima Neto\\nBelo Horizonte, MG\\n1\\n1994\\nRonaldo Santos\\nRio de Janeiro, RJ\\n1\\n1994\\nVanessa Felippe\\nRio de Janeiro, RJ\\n1\\n1994\\nAyrton Xerez\\nRio de Janeiro, RJ\\n1\\n1998\\nCornélio Ribeiro\\nCarmo, RJ\\n1\\n1998\\nCoronel Garcia\\nRio de Janeiro, RJ\\n1\\n1998\\nDino Fernandes\\nRio de Janeiro, RJ\\n1\\n1998\\nEber Silva\\nRio de Janeiro, RJ\\n1\\n1998\\nIédio Rosa\\nSão Pedro da Aldeia, RJ\\n1\\n1998\\nJoão Sampaio\\nNiterói, RJ\\n1\\n1998\\nLuisinho Oliveira\\nRio de Janeiro, RJ\\n1\\n1998\\nLuís Ribeiro\\nTeresópolis, RJ\\n1\\n1998\\nMatos Nascimento\\nRio de Janeiro, RJ\\n1\\n1998\\nMiriam Reid\\nMacaé, RJ\\n1\\n1998\\nValdeci Paiva\\nHidrolândia, CE\\n1\\n1998\\nWanderley Martins\\nSão Gonçalo, RJ\\n1\\n1998\\nAlmir Moura\\nRio de Janeiro, RJ\\n1\\n2002\\nAndré Luís Silva\\nRio de Janeiro, RJ\\n1\\n2002\\nAntônio Carlos Biscaia\\nCuritiba, PR\\n1\\n2002\\nDenise Frossard\\nCarangola, MG\\n1\\n2002\\nElaine Costa\\nRio de Janeiro, RJ\\n1\\n2002\\nJoão Mendes de Jesus\\nAurelino Leal, BA\\n1\\n2002\\nJosé Divino\\nRio Negro, MS\\n1\\n2002\\nJosias Quintal\\nSanto Antônio de Pádua, RJ\\n1\\n2002\\nMaria Lúcia\\nRio de Janeiro, RJ\\n1\\n2002\\nReinaldo Betão\\nDuque de Caxias, RJ\\n1\\n2002\\nRenato Cozzolino\\nRio de Janeiro, RJ\\n1\\n2002\\nVieira Reis\\nCamaçari, BA\\n1\\n2002\\nArnaldo Viana\\nCampos dos Goytacazes, RJ\\n1\\n2006\\nBrizola Neto\\nPorto Alegre, RS\\n1\\n2006\\nCida Diogo\\nVolta Redonda, RJ\\n1\\n2006\\nGeraldo Pudim\\nCampos dos Goytacazes, RJ\\n1\\n2006\\nLeandro Sampaio\\nPetrópolis, RJ\\n1\\n2006\\nLéo Vivas\\nMaraú, BA\\n1\\n2006\\nManoel Ferreira\\nArapiraca, AL\\n1\\n2006\\nMarcelo Itagiba\\nRio de Janeiro, RJ\\n1\\n2006\\nMarina Maggessi\\nRio de Janeiro, RJ\\n1\\n2006\\nRogerio Lisboa\\nNova Iguaçu, RJ\\n1\\n2006\\nSolange Almeida\\nPorto Alegre, RS\\n1\\n2006\\nSolange Amaral\\nRio de Janeiro, RJ\\n1\\n2006\\nSuely Silva\\nIlhéus, BA\\n1\\n2006\\nVinicius Carvalho[nota 37]\\nRio de Janeiro, RJ\\n1\\n2006\\nAdrian Ramos\\nMacaé, RJ\\n1\\n2010\\nAlfredo Sirkis\\nRio de Janeiro, RJ\\n1\\n2010\\nAluizio dos Santos Junior\\nMacaé, RJ\\n1\\n2010\\nAnthony Garotinho\\nCampos dos Goytacazes, RJ\\n1\\n2010\\nJorge Zoinho\\nVolta Redonda, RJ\\n1\\n2010\\nLiliam Sá\\nRio de Janeiro, RJ\\n1\\n2010\\nPaulo César Almeida\\nCabo Frio, RJ\\n1\\n2010\\nRodrigo Bethlem\\nRio de Janeiro, RJ\\n1\\n2010\\nRomário Faria\\nRio de Janeiro, RJ\\n1\\n2010\\nStepan Nercessian\\nCristalina, GO\\n1\\n2010\\nVitor Paulo\\nNiterói, RJ\\n1\\n2010\\nWalney Rocha\\nNova Iguaçu, RJ\\n1\\n2010\\nAlexandre Valle\\nRio de Janeiro, RJ\\n1\\n2014\\nCabo Daciolo\\nFlorianópolis, SC\\n1\\n2014\\nCelso Pansera\\nSão Valentim, RS\\n1\\n2014\\nCristiane Brasil\\nRio de Janeiro, RJ\\n1\\n2014\\nEzequiel Teixeira\\nRio de Janeiro, RJ\\n1\\n2014\\nFabiano Horta\\nRio de Janeiro, RJ\\n1\\n2014\\nFernando Jordão\\nAngra dos Reis, RJ\\n1\\n2014\\nJoão Ferreira Neto\\nRio de Janeiro, RJ\\n1\\n2014\\nLuiz Carlos Ramos\\nRio de Janeiro, RJ\\n1\\n2014\\nMarco Antônio Cabral\\nRio de Janeiro, RJ\\n1\\n2014\\nMarcos Soares\\nRio de Janeiro, RJ\\n1\\n2014\\nRoberto Sales\\nRio de Janeiro, RJ\\n1\\n2014\\nAntônio Furtado\\nRio de Janeiro, RJ\\n1\\n2018\\nCarlos Jordy\\nNiterói, RJ\\n1\\n2018\\nChiquinho Brazão\\nRio de Janeiro, RJ\\n1\\n2018\\nChris Tonietto\\nRio de Janeiro, RJ\\n1\\n2018\\nChristino Áureo\\nMacaé, RJ\\n1\\n2018\\nDaniel Silveira\\nPetrópolis, RJ\\n1\\n2018\\nDaniela do Waguinho\\nItalva, RJ\\n1\\n2018\\nFabiana Souza\\nRio de Janeiro, RJ\\n1\\n2018\\nFelício Laterça\\nCampos dos Goytacazes, RJ\\n1\\n2018\\nFlordelis Souza\\nRio de Janeiro, RJ\\n1\\n2018\\nGelson Azevedo\\nRio de Janeiro, RJ\\n1\\n2018\\nGutemberg Reis\\nDuque de Caxias, RJ\\n1\\n2018\\nHélio Lopes\\nRio de Janeiro, RJ\\n1\\n2018\\nJoão Carlos Gurgel\\nNova Iguaçu, RJ\\n1\\n2018\\nJoziel Ferreira\\nSão João de Meriti, RJ\\n1\\n2018\\nJuninho do Pneu[12][13][nota 38]\\nNova Iguaçu, RJ\\n1\\n2018\\nLourival Gomes\\nRio Bonito, RJ\\n1\\n2018\\nLuiz Antônio Corrêa\\nRio de Janeiro, RJ\\n1\\n2018\\nLuiz Antonio Teixeira\\nRio de Janeiro, RJ\\n1\\n2018\\nLuiz Lima\\nRio de Janeiro, RJ\\n1\\n2018\\nMarcelo Calero\\nRio de Janeiro, RJ\\n1\\n2018\\nMarcelo Freixo\\nSão Gonçalo, RJ\\n1\\n2018\\nMárcio Labre\\nRio de Janeiro, RJ\\n1\\n2018\\nOtoni de Paula Júnior\\nNiterói, RJ\\n1\\n2018\\nPaulo Ganime\\nRio de Janeiro, RJ\\n1\\n2018\\nTalíria Petrone\\nNiterói, RJ\\n1\\n2018\\nVinicius Farah\\nTrês Rios, RJ\\n1\\n2018\\nWagner Montes[14][nota 39]\\nDuque de Caxias, RJ\\n1\\n2018\\nWladimir Garotinho[nota 40]\\nCampos dos Goytacazes, RJ\\n1\\n2018\""
            ]
          },
          "metadata": {},
          "execution_count": 12
        }
      ]
    },
    {
      "cell_type": "markdown",
      "metadata": {
        "id": "WOBLwyaQVmVL"
      },
      "source": [
        "Vamos salvar esse conteúdo dentro de uma variável chamada `table_rj`."
      ]
    },
    {
      "cell_type": "code",
      "metadata": {
        "id": "RIzPEj8fVmBS"
      },
      "source": [
        "table_rj = tables[5]"
      ],
      "execution_count": null,
      "outputs": []
    },
    {
      "cell_type": "markdown",
      "metadata": {
        "id": "O3_dIvHzTXbO"
      },
      "source": [
        "Estamos vendo que o conteúdo não está em uma estrutura legível, precisamos melhorar. Vamos começar pegando cada linha dessa tabela. Uma linha em HTML é composta por um conjunto de tags `tr`. Novamente usaremos o `find()` para encontrar os `tr`, salvando o conteúdo na variável `rows`."
      ]
    },
    {
      "cell_type": "code",
      "metadata": {
        "id": "hMzhv21JUzLX",
        "colab": {
          "base_uri": "https://localhost:8080/"
        },
        "outputId": "657f5ca3-9a1c-4ab0-f897-ef96827166e1"
      },
      "source": [
        "rows = table_rj.find('tr')\n",
        "rows"
      ],
      "execution_count": null,
      "outputs": [
        {
          "output_type": "execute_result",
          "data": {
            "text/plain": [
              "[<Element 'tr' >,\n",
              " <Element 'tr' >,\n",
              " <Element 'tr' >,\n",
              " <Element 'tr' >,\n",
              " <Element 'tr' >,\n",
              " <Element 'tr' >,\n",
              " <Element 'tr' >,\n",
              " <Element 'tr' >,\n",
              " <Element 'tr' >,\n",
              " <Element 'tr' >,\n",
              " <Element 'tr' >,\n",
              " <Element 'tr' >,\n",
              " <Element 'tr' >,\n",
              " <Element 'tr' >,\n",
              " <Element 'tr' >,\n",
              " <Element 'tr' >,\n",
              " <Element 'tr' >,\n",
              " <Element 'tr' >,\n",
              " <Element 'tr' >,\n",
              " <Element 'tr' >,\n",
              " <Element 'tr' >,\n",
              " <Element 'tr' >,\n",
              " <Element 'tr' >,\n",
              " <Element 'tr' >,\n",
              " <Element 'tr' >,\n",
              " <Element 'tr' >,\n",
              " <Element 'tr' >,\n",
              " <Element 'tr' >,\n",
              " <Element 'tr' >,\n",
              " <Element 'tr' >,\n",
              " <Element 'tr' >,\n",
              " <Element 'tr' >,\n",
              " <Element 'tr' >,\n",
              " <Element 'tr' >,\n",
              " <Element 'tr' >,\n",
              " <Element 'tr' >,\n",
              " <Element 'tr' >,\n",
              " <Element 'tr' >,\n",
              " <Element 'tr' >,\n",
              " <Element 'tr' >,\n",
              " <Element 'tr' >,\n",
              " <Element 'tr' >,\n",
              " <Element 'tr' >,\n",
              " <Element 'tr' >,\n",
              " <Element 'tr' >,\n",
              " <Element 'tr' >,\n",
              " <Element 'tr' >,\n",
              " <Element 'tr' >,\n",
              " <Element 'tr' >,\n",
              " <Element 'tr' >,\n",
              " <Element 'tr' >,\n",
              " <Element 'tr' >,\n",
              " <Element 'tr' >,\n",
              " <Element 'tr' >,\n",
              " <Element 'tr' >,\n",
              " <Element 'tr' >,\n",
              " <Element 'tr' >,\n",
              " <Element 'tr' >,\n",
              " <Element 'tr' >,\n",
              " <Element 'tr' >,\n",
              " <Element 'tr' >,\n",
              " <Element 'tr' >,\n",
              " <Element 'tr' >,\n",
              " <Element 'tr' >,\n",
              " <Element 'tr' >,\n",
              " <Element 'tr' >,\n",
              " <Element 'tr' >,\n",
              " <Element 'tr' >,\n",
              " <Element 'tr' >,\n",
              " <Element 'tr' >,\n",
              " <Element 'tr' >,\n",
              " <Element 'tr' >,\n",
              " <Element 'tr' >,\n",
              " <Element 'tr' >,\n",
              " <Element 'tr' >,\n",
              " <Element 'tr' >,\n",
              " <Element 'tr' >,\n",
              " <Element 'tr' >,\n",
              " <Element 'tr' >,\n",
              " <Element 'tr' >,\n",
              " <Element 'tr' >,\n",
              " <Element 'tr' >,\n",
              " <Element 'tr' >,\n",
              " <Element 'tr' >,\n",
              " <Element 'tr' >,\n",
              " <Element 'tr' >,\n",
              " <Element 'tr' >,\n",
              " <Element 'tr' >,\n",
              " <Element 'tr' >,\n",
              " <Element 'tr' >,\n",
              " <Element 'tr' >,\n",
              " <Element 'tr' >,\n",
              " <Element 'tr' >,\n",
              " <Element 'tr' >,\n",
              " <Element 'tr' >,\n",
              " <Element 'tr' >,\n",
              " <Element 'tr' >,\n",
              " <Element 'tr' >,\n",
              " <Element 'tr' >,\n",
              " <Element 'tr' >,\n",
              " <Element 'tr' >,\n",
              " <Element 'tr' >,\n",
              " <Element 'tr' >,\n",
              " <Element 'tr' >,\n",
              " <Element 'tr' >,\n",
              " <Element 'tr' >,\n",
              " <Element 'tr' >,\n",
              " <Element 'tr' >,\n",
              " <Element 'tr' >,\n",
              " <Element 'tr' >,\n",
              " <Element 'tr' >,\n",
              " <Element 'tr' >,\n",
              " <Element 'tr' >,\n",
              " <Element 'tr' >,\n",
              " <Element 'tr' >,\n",
              " <Element 'tr' >,\n",
              " <Element 'tr' >,\n",
              " <Element 'tr' >,\n",
              " <Element 'tr' >,\n",
              " <Element 'tr' >,\n",
              " <Element 'tr' >,\n",
              " <Element 'tr' >,\n",
              " <Element 'tr' >,\n",
              " <Element 'tr' >,\n",
              " <Element 'tr' >,\n",
              " <Element 'tr' >,\n",
              " <Element 'tr' >,\n",
              " <Element 'tr' >,\n",
              " <Element 'tr' >,\n",
              " <Element 'tr' >,\n",
              " <Element 'tr' >,\n",
              " <Element 'tr' >,\n",
              " <Element 'tr' >,\n",
              " <Element 'tr' >,\n",
              " <Element 'tr' >,\n",
              " <Element 'tr' >,\n",
              " <Element 'tr' >,\n",
              " <Element 'tr' >,\n",
              " <Element 'tr' >,\n",
              " <Element 'tr' >,\n",
              " <Element 'tr' >,\n",
              " <Element 'tr' >,\n",
              " <Element 'tr' >,\n",
              " <Element 'tr' >,\n",
              " <Element 'tr' >,\n",
              " <Element 'tr' >,\n",
              " <Element 'tr' >,\n",
              " <Element 'tr' >,\n",
              " <Element 'tr' >,\n",
              " <Element 'tr' >,\n",
              " <Element 'tr' >,\n",
              " <Element 'tr' >,\n",
              " <Element 'tr' >,\n",
              " <Element 'tr' >,\n",
              " <Element 'tr' >,\n",
              " <Element 'tr' >,\n",
              " <Element 'tr' >,\n",
              " <Element 'tr' >,\n",
              " <Element 'tr' >,\n",
              " <Element 'tr' >,\n",
              " <Element 'tr' >,\n",
              " <Element 'tr' >,\n",
              " <Element 'tr' >,\n",
              " <Element 'tr' >,\n",
              " <Element 'tr' >,\n",
              " <Element 'tr' >,\n",
              " <Element 'tr' >,\n",
              " <Element 'tr' >,\n",
              " <Element 'tr' >,\n",
              " <Element 'tr' >,\n",
              " <Element 'tr' >,\n",
              " <Element 'tr' >,\n",
              " <Element 'tr' >,\n",
              " <Element 'tr' >,\n",
              " <Element 'tr' >,\n",
              " <Element 'tr' >,\n",
              " <Element 'tr' >,\n",
              " <Element 'tr' >,\n",
              " <Element 'tr' >,\n",
              " <Element 'tr' >,\n",
              " <Element 'tr' >,\n",
              " <Element 'tr' >,\n",
              " <Element 'tr' >,\n",
              " <Element 'tr' >,\n",
              " <Element 'tr' >,\n",
              " <Element 'tr' >,\n",
              " <Element 'tr' >,\n",
              " <Element 'tr' >,\n",
              " <Element 'tr' >,\n",
              " <Element 'tr' >,\n",
              " <Element 'tr' >,\n",
              " <Element 'tr' >,\n",
              " <Element 'tr' >,\n",
              " <Element 'tr' >,\n",
              " <Element 'tr' >,\n",
              " <Element 'tr' >,\n",
              " <Element 'tr' >,\n",
              " <Element 'tr' >,\n",
              " <Element 'tr' >,\n",
              " <Element 'tr' >,\n",
              " <Element 'tr' >,\n",
              " <Element 'tr' >,\n",
              " <Element 'tr' >,\n",
              " <Element 'tr' >,\n",
              " <Element 'tr' >,\n",
              " <Element 'tr' >,\n",
              " <Element 'tr' >,\n",
              " <Element 'tr' >,\n",
              " <Element 'tr' >,\n",
              " <Element 'tr' >,\n",
              " <Element 'tr' >,\n",
              " <Element 'tr' >,\n",
              " <Element 'tr' >,\n",
              " <Element 'tr' >,\n",
              " <Element 'tr' >,\n",
              " <Element 'tr' >,\n",
              " <Element 'tr' >,\n",
              " <Element 'tr' >,\n",
              " <Element 'tr' >,\n",
              " <Element 'tr' >,\n",
              " <Element 'tr' >,\n",
              " <Element 'tr' >,\n",
              " <Element 'tr' >,\n",
              " <Element 'tr' >,\n",
              " <Element 'tr' >,\n",
              " <Element 'tr' >,\n",
              " <Element 'tr' >,\n",
              " <Element 'tr' >,\n",
              " <Element 'tr' >,\n",
              " <Element 'tr' >,\n",
              " <Element 'tr' >,\n",
              " <Element 'tr' >,\n",
              " <Element 'tr' >,\n",
              " <Element 'tr' >,\n",
              " <Element 'tr' >,\n",
              " <Element 'tr' >,\n",
              " <Element 'tr' >,\n",
              " <Element 'tr' >,\n",
              " <Element 'tr' >,\n",
              " <Element 'tr' >,\n",
              " <Element 'tr' >,\n",
              " <Element 'tr' >,\n",
              " <Element 'tr' >,\n",
              " <Element 'tr' >,\n",
              " <Element 'tr' >,\n",
              " <Element 'tr' >,\n",
              " <Element 'tr' >,\n",
              " <Element 'tr' >,\n",
              " <Element 'tr' >,\n",
              " <Element 'tr' >,\n",
              " <Element 'tr' >,\n",
              " <Element 'tr' >,\n",
              " <Element 'tr' >,\n",
              " <Element 'tr' >,\n",
              " <Element 'tr' >,\n",
              " <Element 'tr' >,\n",
              " <Element 'tr' >,\n",
              " <Element 'tr' >,\n",
              " <Element 'tr' >,\n",
              " <Element 'tr' >,\n",
              " <Element 'tr' >,\n",
              " <Element 'tr' >,\n",
              " <Element 'tr' >,\n",
              " <Element 'tr' >,\n",
              " <Element 'tr' >,\n",
              " <Element 'tr' >,\n",
              " <Element 'tr' >,\n",
              " <Element 'tr' >,\n",
              " <Element 'tr' >,\n",
              " <Element 'tr' >,\n",
              " <Element 'tr' >,\n",
              " <Element 'tr' >,\n",
              " <Element 'tr' >,\n",
              " <Element 'tr' >,\n",
              " <Element 'tr' >,\n",
              " <Element 'tr' >,\n",
              " <Element 'tr' >,\n",
              " <Element 'tr' >,\n",
              " <Element 'tr' >,\n",
              " <Element 'tr' >,\n",
              " <Element 'tr' >,\n",
              " <Element 'tr' >,\n",
              " <Element 'tr' >,\n",
              " <Element 'tr' >,\n",
              " <Element 'tr' >,\n",
              " <Element 'tr' >,\n",
              " <Element 'tr' >,\n",
              " <Element 'tr' >,\n",
              " <Element 'tr' >,\n",
              " <Element 'tr' >,\n",
              " <Element 'tr' >,\n",
              " <Element 'tr' >,\n",
              " <Element 'tr' >,\n",
              " <Element 'tr' >,\n",
              " <Element 'tr' >,\n",
              " <Element 'tr' >,\n",
              " <Element 'tr' >,\n",
              " <Element 'tr' >,\n",
              " <Element 'tr' >,\n",
              " <Element 'tr' >,\n",
              " <Element 'tr' >,\n",
              " <Element 'tr' >,\n",
              " <Element 'tr' >,\n",
              " <Element 'tr' >,\n",
              " <Element 'tr' >,\n",
              " <Element 'tr' >,\n",
              " <Element 'tr' >,\n",
              " <Element 'tr' >,\n",
              " <Element 'tr' >,\n",
              " <Element 'tr' >,\n",
              " <Element 'tr' >,\n",
              " <Element 'tr' >,\n",
              " <Element 'tr' >,\n",
              " <Element 'tr' >,\n",
              " <Element 'tr' >,\n",
              " <Element 'tr' >,\n",
              " <Element 'tr' >,\n",
              " <Element 'tr' >,\n",
              " <Element 'tr' >,\n",
              " <Element 'tr' >,\n",
              " <Element 'tr' >,\n",
              " <Element 'tr' >,\n",
              " <Element 'tr' >,\n",
              " <Element 'tr' >,\n",
              " <Element 'tr' >,\n",
              " <Element 'tr' >,\n",
              " <Element 'tr' >,\n",
              " <Element 'tr' >,\n",
              " <Element 'tr' >,\n",
              " <Element 'tr' >,\n",
              " <Element 'tr' >,\n",
              " <Element 'tr' >,\n",
              " <Element 'tr' >,\n",
              " <Element 'tr' >,\n",
              " <Element 'tr' >,\n",
              " <Element 'tr' >,\n",
              " <Element 'tr' >,\n",
              " <Element 'tr' >,\n",
              " <Element 'tr' >,\n",
              " <Element 'tr' >,\n",
              " <Element 'tr' >,\n",
              " <Element 'tr' >,\n",
              " <Element 'tr' >,\n",
              " <Element 'tr' >,\n",
              " <Element 'tr' >,\n",
              " <Element 'tr' >,\n",
              " <Element 'tr' >,\n",
              " <Element 'tr' >,\n",
              " <Element 'tr' >,\n",
              " <Element 'tr' >,\n",
              " <Element 'tr' >,\n",
              " <Element 'tr' >,\n",
              " <Element 'tr' >,\n",
              " <Element 'tr' >,\n",
              " <Element 'tr' >]"
            ]
          },
          "metadata": {},
          "execution_count": 14
        }
      ]
    },
    {
      "cell_type": "markdown",
      "metadata": {
        "id": "XQkAKSAhWXQ2"
      },
      "source": [
        "Estamos vendo vários `tr`, mas não sabemos o conteúdo que a tag armazena. Como a variável `rows` está armazenando uma lista, passaremos um índice da lista junto a variável e para visualizar o conteúdo utilizaremos o `.text`. "
      ]
    },
    {
      "cell_type": "code",
      "metadata": {
        "colab": {
          "base_uri": "https://localhost:8080/",
          "height": 35
        },
        "id": "HJSBY2H-WmPA",
        "outputId": "e450dfe4-7f0c-4efc-a230-b50123d71eb3"
      },
      "source": [
        "rows[0].text"
      ],
      "execution_count": null,
      "outputs": [
        {
          "output_type": "execute_result",
          "data": {
            "application/vnd.google.colaboratory.intrinsic+json": {
              "type": "string"
            },
            "text/plain": [
              "'Deputados federais eleitos\\nNaturalidade\\nMandatos\\nAno da eleição'"
            ]
          },
          "metadata": {},
          "execution_count": 15
        }
      ]
    },
    {
      "cell_type": "markdown",
      "metadata": {
        "id": "OSVKyHHkWs3J"
      },
      "source": [
        "Podemos perceber que o índice 0 contém o cabeçalho da tabela, separado por barras. O método `split` consegue separar o conteúdo e tirar a barra."
      ]
    },
    {
      "cell_type": "code",
      "metadata": {
        "colab": {
          "base_uri": "https://localhost:8080/"
        },
        "id": "hnDHNGbAXgB-",
        "outputId": "a2104e8d-2e34-449f-8253-4bc4b355497a"
      },
      "source": [
        "rows[0].text.split('\\n')"
      ],
      "execution_count": null,
      "outputs": [
        {
          "output_type": "execute_result",
          "data": {
            "text/plain": [
              "['Deputados federais eleitos', 'Naturalidade', 'Mandatos', 'Ano da eleição']"
            ]
          },
          "metadata": {},
          "execution_count": 16
        }
      ]
    },
    {
      "cell_type": "markdown",
      "metadata": {
        "id": "EbjJTuX4XpgR"
      },
      "source": [
        "Legal, não?! Que tal então encontrar todos os cabeçalhos? esse conteúdo é armazenado dentro da tag `th`. Usaremos nosso amigo `find` para encontrar o conteúdo e salvar dentro da variável `headers`."
      ]
    },
    {
      "cell_type": "code",
      "metadata": {
        "id": "IQwZ4PpAZuQW",
        "colab": {
          "base_uri": "https://localhost:8080/"
        },
        "outputId": "77c4d5f1-d7b1-4220-ae99-3f0b694657cb"
      },
      "source": [
        "headers = rows[0].find('th')\n",
        "\n",
        "#para visualizar o conteúdo\n",
        "headers"
      ],
      "execution_count": null,
      "outputs": [
        {
          "output_type": "execute_result",
          "data": {
            "text/plain": [
              "[<Element 'th' style='background-color:#CCCCCC' width='190'>,\n",
              " <Element 'th' style='background-color:#CCCCCC' width='190'>,\n",
              " <Element 'th' style='background-color:#CCCCCC' width='80'>,\n",
              " <Element 'th' style='background-color:#CCCCCC' width='470'>]"
            ]
          },
          "metadata": {},
          "execution_count": 17
        }
      ]
    },
    {
      "cell_type": "markdown",
      "metadata": {
        "id": "ZhbKca1faTy1"
      },
      "source": [
        "Vamos salvar esse conteúdo dentro de uma lista vazia chamada `lista_cabeçalho`, usando o laço `for`."
      ]
    },
    {
      "cell_type": "code",
      "metadata": {
        "colab": {
          "base_uri": "https://localhost:8080/"
        },
        "id": "CJefKB4ma5Gc",
        "outputId": "87ffe2a3-ec47-4217-9014-133cda1441a6"
      },
      "source": [
        "lista_cabecalho = []\n",
        "\n",
        "for header in headers:\n",
        "  lista_cabecalho.append(header.text)\n",
        "\n",
        "lista_cabecalho"
      ],
      "execution_count": null,
      "outputs": [
        {
          "output_type": "execute_result",
          "data": {
            "text/plain": [
              "['Deputados federais eleitos', 'Naturalidade', 'Mandatos', 'Ano da eleição']"
            ]
          },
          "metadata": {},
          "execution_count": 18
        }
      ]
    },
    {
      "cell_type": "markdown",
      "metadata": {
        "id": "_1E_31TLampR"
      },
      "source": [
        "Da mesma forma, iremos extrair todo o conteúdo das linhas para preencher a tabela. Primeiro criaremos uma lista vazia chamada `dados`."
      ]
    },
    {
      "cell_type": "code",
      "metadata": {
        "id": "88jgDmQjbcwT"
      },
      "source": [
        "dados = []"
      ],
      "execution_count": null,
      "outputs": []
    },
    {
      "cell_type": "markdown",
      "metadata": {
        "id": "55mK_P3_cW0g"
      },
      "source": [
        "Dessa vez procuraremos pela tag `td`, que armazena o conteúdo que precisamos. Para isso faremos um `for` dentro de um outro `for` para conseguir extrair o conteúdo. Calma, vai dar tudo certo! "
      ]
    },
    {
      "cell_type": "code",
      "metadata": {
        "id": "t1pwhbYkcV2n"
      },
      "source": [
        "#Primeira etapa\n",
        "for row in rows [1:]:\n",
        "  itens = row.find('td')\n",
        "\n",
        "  r = []\n",
        "\n",
        "#Segunda Etapa\n",
        "  for item in itens:\n",
        "    r.append(item.text)\n",
        "\n",
        "    dados.append(r)"
      ],
      "execution_count": null,
      "outputs": []
    },
    {
      "cell_type": "markdown",
      "metadata": {
        "id": "2IsT0vQNdW8i"
      },
      "source": [
        "Vamos entender o que aconteceu aqui:\n",
        "\n",
        "Na **primeira etapa** estamos pedindo para ele ir linha a linha, começando do índice 1 (`rows[1:]`), encontrando todos as tags `td` e salvando o conteúdo na variável `itens`.\n",
        "\n",
        "Pedimos para ele começar do índice 1 por já saber que no índice 0 contém o cabeçalho, os dois pontos (`:`) significa dizer que \"é para ele ir até o final na busca\". Se isso soar confuso para você, volte no [tutorial sobre a sintaxe do Python](https://colab.research.google.com/github/escola-de-dados/notebooks-python-pandas/blob/master/Python.ipynb?hl=pt-BR) e reveja a parte de strings."
      ]
    },
    {
      "cell_type": "markdown",
      "metadata": {
        "id": "wndriet_eqQt"
      },
      "source": [
        "Antes de iniciar a segunda etapa, criamos uma nova lista que chamamos de `r` para armazenar novos conteúdos.\n",
        "\n",
        "Bom, na **segunda etapa** continuamos dentro do `for` e criamos um outro `for` para extrair o conteúdo que está dentro das tags `td`, guardada na variável `itens`. Em seguida, pedimos que esse conteúdo se apresente como um texto entendível, aplicando o `.text`. Só então começamos a popular a lista `r`, através do `append()`.\n",
        "\n",
        "Por fim, depois dos dados todos organizadinhos, populamos a nossa lista oficial chamada `dados` com todo o conteúdo da lista `r`."
      ]
    },
    {
      "cell_type": "markdown",
      "metadata": {
        "id": "MB2r_7WigDox"
      },
      "source": [
        "Mas será que tudo isso deu certo? Só tem um jeito de saber: chamando a lista `dados`."
      ]
    },
    {
      "cell_type": "code",
      "metadata": {
        "id": "H1D4RzZMgKhA"
      },
      "source": [
        "dados"
      ],
      "execution_count": null,
      "outputs": []
    },
    {
      "cell_type": "markdown",
      "metadata": {
        "id": "j_e9z-g8gddr"
      },
      "source": [
        "Perfeito! Extraimos todo o conteúdo, porém ainda não está de uma maneira legal de visualizaçãoo. É hora de evocar a automágica do Pandas! \n",
        "Vamos importar a biblioteca Pandas e salvar tudo em um bonito DataFrame."
      ]
    },
    {
      "cell_type": "code",
      "metadata": {
        "id": "fxpDw066gsv3"
      },
      "source": [
        "import pandas as pd"
      ],
      "execution_count": null,
      "outputs": []
    },
    {
      "cell_type": "markdown",
      "metadata": {
        "id": "cwSgBo6LhVT0"
      },
      "source": [
        "Agora vamos criar um DataFrame chamado `deputados_rj`. A maneira mais básica de criar um DataFrame é passando o conteúdo que você quer que seja incluso. No nosso caso passaremos o conteúdo que está armazenado na variável `dados` e indicaremos o nome de cada coluna, passando a variável `lista_cabecalho`.\n",
        "\n"
      ]
    },
    {
      "cell_type": "code",
      "metadata": {
        "id": "5OHvoX7KhBR8"
      },
      "source": [
        "deputados_rj = pd.DataFrame(dados, columns = lista_cabecalho)"
      ],
      "execution_count": null,
      "outputs": []
    },
    {
      "cell_type": "markdown",
      "metadata": {
        "id": "myJv4HIdh-Fg"
      },
      "source": [
        "Veja, agora ficou ótimo!"
      ]
    },
    {
      "cell_type": "code",
      "metadata": {
        "colab": {
          "base_uri": "https://localhost:8080/",
          "height": 417
        },
        "id": "hkWFruG5hB4c",
        "outputId": "6fc71afe-e228-4fd1-b445-2ac80464229f"
      },
      "source": [
        "deputados_rj"
      ],
      "execution_count": null,
      "outputs": [
        {
          "output_type": "execute_result",
          "data": {
            "text/html": [
              "<div>\n",
              "<style scoped>\n",
              "    .dataframe tbody tr th:only-of-type {\n",
              "        vertical-align: middle;\n",
              "    }\n",
              "\n",
              "    .dataframe tbody tr th {\n",
              "        vertical-align: top;\n",
              "    }\n",
              "\n",
              "    .dataframe thead th {\n",
              "        text-align: right;\n",
              "    }\n",
              "</style>\n",
              "<table border=\"1\" class=\"dataframe\">\n",
              "  <thead>\n",
              "    <tr style=\"text-align: right;\">\n",
              "      <th></th>\n",
              "      <th>Deputados federais eleitos</th>\n",
              "      <th>Naturalidade</th>\n",
              "      <th>Mandatos</th>\n",
              "      <th>Ano da eleição</th>\n",
              "    </tr>\n",
              "  </thead>\n",
              "  <tbody>\n",
              "    <tr>\n",
              "      <th>0</th>\n",
              "      <td>Simão Sessim</td>\n",
              "      <td>Rio de Janeiro, RJ</td>\n",
              "      <td>10</td>\n",
              "      <td>1978, 1982, 1986, 1990, 1994, 1998, 2002, 2006...</td>\n",
              "    </tr>\n",
              "    <tr>\n",
              "      <th>1</th>\n",
              "      <td>Simão Sessim</td>\n",
              "      <td>Rio de Janeiro, RJ</td>\n",
              "      <td>10</td>\n",
              "      <td>1978, 1982, 1986, 1990, 1994, 1998, 2002, 2006...</td>\n",
              "    </tr>\n",
              "    <tr>\n",
              "      <th>2</th>\n",
              "      <td>Simão Sessim</td>\n",
              "      <td>Rio de Janeiro, RJ</td>\n",
              "      <td>10</td>\n",
              "      <td>1978, 1982, 1986, 1990, 1994, 1998, 2002, 2006...</td>\n",
              "    </tr>\n",
              "    <tr>\n",
              "      <th>3</th>\n",
              "      <td>Simão Sessim</td>\n",
              "      <td>Rio de Janeiro, RJ</td>\n",
              "      <td>10</td>\n",
              "      <td>1978, 1982, 1986, 1990, 1994, 1998, 2002, 2006...</td>\n",
              "    </tr>\n",
              "    <tr>\n",
              "      <th>4</th>\n",
              "      <td>Miro Teixeira</td>\n",
              "      <td>Rio de Janeiro, RJ</td>\n",
              "      <td>9</td>\n",
              "      <td>1978, 1986, 1990, 1994, 1998, 2002, 2006, 2010...</td>\n",
              "    </tr>\n",
              "    <tr>\n",
              "      <th>...</th>\n",
              "      <td>...</td>\n",
              "      <td>...</td>\n",
              "      <td>...</td>\n",
              "      <td>...</td>\n",
              "    </tr>\n",
              "    <tr>\n",
              "      <th>1411</th>\n",
              "      <td>Wagner Montes[14][nota 39]</td>\n",
              "      <td>Duque de Caxias, RJ</td>\n",
              "      <td>1</td>\n",
              "      <td>2018</td>\n",
              "    </tr>\n",
              "    <tr>\n",
              "      <th>1412</th>\n",
              "      <td>Wladimir Garotinho[nota 40]</td>\n",
              "      <td>Campos dos Goytacazes, RJ</td>\n",
              "      <td>1</td>\n",
              "      <td>2018</td>\n",
              "    </tr>\n",
              "    <tr>\n",
              "      <th>1413</th>\n",
              "      <td>Wladimir Garotinho[nota 40]</td>\n",
              "      <td>Campos dos Goytacazes, RJ</td>\n",
              "      <td>1</td>\n",
              "      <td>2018</td>\n",
              "    </tr>\n",
              "    <tr>\n",
              "      <th>1414</th>\n",
              "      <td>Wladimir Garotinho[nota 40]</td>\n",
              "      <td>Campos dos Goytacazes, RJ</td>\n",
              "      <td>1</td>\n",
              "      <td>2018</td>\n",
              "    </tr>\n",
              "    <tr>\n",
              "      <th>1415</th>\n",
              "      <td>Wladimir Garotinho[nota 40]</td>\n",
              "      <td>Campos dos Goytacazes, RJ</td>\n",
              "      <td>1</td>\n",
              "      <td>2018</td>\n",
              "    </tr>\n",
              "  </tbody>\n",
              "</table>\n",
              "<p>1416 rows × 4 columns</p>\n",
              "</div>"
            ],
            "text/plain": [
              "       Deputados federais eleitos  ...                                     Ano da eleição\n",
              "0                    Simão Sessim  ...  1978, 1982, 1986, 1990, 1994, 1998, 2002, 2006...\n",
              "1                    Simão Sessim  ...  1978, 1982, 1986, 1990, 1994, 1998, 2002, 2006...\n",
              "2                    Simão Sessim  ...  1978, 1982, 1986, 1990, 1994, 1998, 2002, 2006...\n",
              "3                    Simão Sessim  ...  1978, 1982, 1986, 1990, 1994, 1998, 2002, 2006...\n",
              "4                   Miro Teixeira  ...  1978, 1986, 1990, 1994, 1998, 2002, 2006, 2010...\n",
              "...                           ...  ...                                                ...\n",
              "1411   Wagner Montes[14][nota 39]  ...                                               2018\n",
              "1412  Wladimir Garotinho[nota 40]  ...                                               2018\n",
              "1413  Wladimir Garotinho[nota 40]  ...                                               2018\n",
              "1414  Wladimir Garotinho[nota 40]  ...                                               2018\n",
              "1415  Wladimir Garotinho[nota 40]  ...                                               2018\n",
              "\n",
              "[1416 rows x 4 columns]"
            ]
          },
          "metadata": {},
          "execution_count": 25
        }
      ]
    },
    {
      "cell_type": "markdown",
      "metadata": {
        "id": "Kq-eTqZng0ic"
      },
      "source": [
        "Agora você pode fazer várias manipulações usando a biblioteca Pandas e/ou salvar em um csv usando `read_csv`."
      ]
    },
    {
      "cell_type": "code",
      "metadata": {
        "id": "VXb3hwTliL4P"
      },
      "source": [
        "deputados_rj.to_csv('meu_arquivo.csv')"
      ],
      "execution_count": null,
      "outputs": []
    },
    {
      "cell_type": "markdown",
      "metadata": {
        "id": "7tcn3uyEfwJ4"
      },
      "source": [
        "# Utilizando o Pandas"
      ]
    },
    {
      "cell_type": "markdown",
      "metadata": {
        "id": "T6C5pQ8y2OIY"
      },
      "source": [
        "Existe um jeito bem mais simples de fazer tudo que fizemos anteriormente. O problema é que dessa maneira não temos tanta liberdade para navegar pela estrutura do navgador, como tivemos usando a biblioteca `requests-html`. Isso acontece o Pandas possui vários componentes por trás dos métodos e funções para facilitar a sua vida.\n",
        "\n",
        "A biblioteca Pandas possui diversas funções para carga de arquivos com nomes bastante intuitivos, sendo sempre `read` seguido do tipo de arquivo que você deseja carregar, por exemplo, `read_csv`, `read_excel`, entre outros. Vamos conhecer agora o método `read_html`."
      ]
    },
    {
      "cell_type": "markdown",
      "metadata": {
        "id": "KXEaHDPGf15v"
      },
      "source": [
        " \n",
        "\n",
        " O `read_html` consegue carregar tanto um arquivo HTML como uma URL (link de um site), detectando \"sozinho\" as tabelas que existem na página ou aquivo e retorna uma lista com essas tabelas HTML, organizadas dentro de um DataFrame (tabela) Pandas.  "
      ]
    },
    {
      "cell_type": "markdown",
      "metadata": {
        "id": "vWOpy_3nd6AI"
      },
      "source": [
        "# Extraindo dados de parlamentares de Pernambuco"
      ]
    },
    {
      "cell_type": "markdown",
      "metadata": {
        "id": "grsuJiLid-hr"
      },
      "source": [
        "Iremos extrair outra lista de deputados federais eleitos, agora do estado de Pernambuco. Lembrando que esses dados você podem ser baixados com ainda mais informações no site do [Tribunal Superior Eleitoral](https://www.tse.jus.br/eleicoes/estatisticas/repositorio-de-dados-eleitorais-1). O método usado aqui é unicamente para fins didáticos. "
      ]
    },
    {
      "cell_type": "markdown",
      "metadata": {
        "id": "ZC6T8YMajIcX"
      },
      "source": [
        "Como já importamos a biblioteca anteriormente, não precisamos fazer novamente. Mas se você começou a ler a partir dessa etapa, inicie importando a biblioteca."
      ]
    },
    {
      "cell_type": "markdown",
      "metadata": {
        "id": "gIUifFW6iSI_"
      },
      "source": [
        "Começaremos armazenando a URL em uma variável:"
      ]
    },
    {
      "cell_type": "code",
      "metadata": {
        "id": "PUDwbIBf4up4"
      },
      "source": [
        "url = 'https://pt.wikipedia.org/wiki/Lista_de_parlamentares_de_Pernambuco'"
      ],
      "execution_count": null,
      "outputs": []
    },
    {
      "cell_type": "markdown",
      "metadata": {
        "id": "KnO3jSWyiqkG"
      },
      "source": [
        "Passaremos a variável como argumento da função e armazenaremos as informações extraidas pelo `read_html` para variável `df`."
      ]
    },
    {
      "cell_type": "code",
      "metadata": {
        "id": "uwbdt-WzjGDL"
      },
      "source": [
        "df = pd.read_html(url)"
      ],
      "execution_count": null,
      "outputs": []
    },
    {
      "cell_type": "markdown",
      "metadata": {
        "id": "xtuTGAQ4kqiH"
      },
      "source": [
        "Vamos ver quantas tabelas tem nessa página usando método `len()`. Esse método trás como resultado o tamanho de uma lista."
      ]
    },
    {
      "cell_type": "code",
      "metadata": {
        "colab": {
          "base_uri": "https://localhost:8080/"
        },
        "id": "RHCMz8Sik0CX",
        "outputId": "850675a0-5651-4907-c820-22f6b75fb003"
      },
      "source": [
        "print(f'Número de Dataframes: {len(df)}')"
      ],
      "execution_count": null,
      "outputs": [
        {
          "output_type": "stream",
          "name": "stdout",
          "text": [
            "Número de Dataframes: 4\n"
          ]
        }
      ]
    },
    {
      "cell_type": "markdown",
      "metadata": {
        "id": "QodWl2C9lgej"
      },
      "source": [
        "Sabemos que nessa página possui 4 tabelas, mas qual é a que queremos? Você pode usar o método `info()` para descobrir, testando cada índice do Dataframe na variável `df`, entre colchetes."
      ]
    },
    {
      "cell_type": "code",
      "metadata": {
        "colab": {
          "base_uri": "https://localhost:8080/"
        },
        "id": "vsrEHws7kcXP",
        "outputId": "10789af7-5fa8-4ea6-d092-0a39ab4efcf8"
      },
      "source": [
        "df[1].info()"
      ],
      "execution_count": null,
      "outputs": [
        {
          "output_type": "stream",
          "name": "stdout",
          "text": [
            "<class 'pandas.core.frame.DataFrame'>\n",
            "RangeIndex: 186 entries, 0 to 185\n",
            "Data columns (total 4 columns):\n",
            " #   Column                      Non-Null Count  Dtype \n",
            "---  ------                      --------------  ----- \n",
            " 0   Deputados federais eleitos  186 non-null    object\n",
            " 1   Naturalidade                186 non-null    object\n",
            " 2   Mandatos                    186 non-null    int64 \n",
            " 3   Ano da eleição              186 non-null    object\n",
            "dtypes: int64(1), object(3)\n",
            "memory usage: 5.9+ KB\n"
          ]
        }
      ]
    },
    {
      "cell_type": "markdown",
      "metadata": {
        "id": "lYVxZNs8mEd7"
      },
      "source": [
        "Descobrimos então que a tabela que queremos é de índice 1. Vamos salvar esse resultado na variável `deputados_pe`."
      ]
    },
    {
      "cell_type": "code",
      "metadata": {
        "id": "RXFRWZeysYQm",
        "colab": {
          "base_uri": "https://localhost:8080/",
          "height": 417
        },
        "outputId": "fef00af8-442d-4f55-a9d6-0899b3ad087a"
      },
      "source": [
        "deputados_pe = df[1]\n",
        "deputados_pe"
      ],
      "execution_count": null,
      "outputs": [
        {
          "output_type": "execute_result",
          "data": {
            "text/html": [
              "<div>\n",
              "<style scoped>\n",
              "    .dataframe tbody tr th:only-of-type {\n",
              "        vertical-align: middle;\n",
              "    }\n",
              "\n",
              "    .dataframe tbody tr th {\n",
              "        vertical-align: top;\n",
              "    }\n",
              "\n",
              "    .dataframe thead th {\n",
              "        text-align: right;\n",
              "    }\n",
              "</style>\n",
              "<table border=\"1\" class=\"dataframe\">\n",
              "  <thead>\n",
              "    <tr style=\"text-align: right;\">\n",
              "      <th></th>\n",
              "      <th>Deputados federais eleitos</th>\n",
              "      <th>Naturalidade</th>\n",
              "      <th>Mandatos</th>\n",
              "      <th>Ano da eleição</th>\n",
              "    </tr>\n",
              "  </thead>\n",
              "  <tbody>\n",
              "    <tr>\n",
              "      <th>0</th>\n",
              "      <td>Inocêncio Oliveira</td>\n",
              "      <td>Serra Talhada, PE</td>\n",
              "      <td>10</td>\n",
              "      <td>1974, 1978, 1982, 1986, 1990, 1994, 1998, 2002...</td>\n",
              "    </tr>\n",
              "    <tr>\n",
              "      <th>1</th>\n",
              "      <td>Osvaldo Coelho</td>\n",
              "      <td>Juazeiro, BA</td>\n",
              "      <td>8</td>\n",
              "      <td>1966, 1978, 1982, 1986, 1990, 1994, 1998, 2002</td>\n",
              "    </tr>\n",
              "    <tr>\n",
              "      <th>2</th>\n",
              "      <td>Ricardo Fiuza[nota 11]</td>\n",
              "      <td>Fortaleza, CE</td>\n",
              "      <td>8</td>\n",
              "      <td>1970, 1974, 1978, 1982, 1986, 1990, 1998, 2002</td>\n",
              "    </tr>\n",
              "    <tr>\n",
              "      <th>3</th>\n",
              "      <td>Gonzaga Patriota</td>\n",
              "      <td>Sertânia, PE</td>\n",
              "      <td>8</td>\n",
              "      <td>1986, 1994, 1998, 2002, 2006, 2010, 2014, 2018</td>\n",
              "    </tr>\n",
              "    <tr>\n",
              "      <th>4</th>\n",
              "      <td>José Mendonça Bezerra</td>\n",
              "      <td>Belo Jardim, PE</td>\n",
              "      <td>7</td>\n",
              "      <td>1982, 1986, 1990, 1994, 1998, 2002, 2006</td>\n",
              "    </tr>\n",
              "    <tr>\n",
              "      <th>...</th>\n",
              "      <td>...</td>\n",
              "      <td>...</td>\n",
              "      <td>...</td>\n",
              "      <td>...</td>\n",
              "    </tr>\n",
              "    <tr>\n",
              "      <th>181</th>\n",
              "      <td>João Campos[5][6][nota 35]</td>\n",
              "      <td>Recife, PE</td>\n",
              "      <td>1</td>\n",
              "      <td>2018</td>\n",
              "    </tr>\n",
              "    <tr>\n",
              "      <th>182</th>\n",
              "      <td>Marília Arraes</td>\n",
              "      <td>Recife, PE</td>\n",
              "      <td>1</td>\n",
              "      <td>2018</td>\n",
              "    </tr>\n",
              "    <tr>\n",
              "      <th>183</th>\n",
              "      <td>Ossesio Silva</td>\n",
              "      <td>Rio de Janeiro, RJ</td>\n",
              "      <td>1</td>\n",
              "      <td>2018</td>\n",
              "    </tr>\n",
              "    <tr>\n",
              "      <th>184</th>\n",
              "      <td>Sílvio Costa Filho</td>\n",
              "      <td>Recife, PE</td>\n",
              "      <td>1</td>\n",
              "      <td>2018</td>\n",
              "    </tr>\n",
              "    <tr>\n",
              "      <th>185</th>\n",
              "      <td>Túlio Gadêlha</td>\n",
              "      <td>Recife, PE</td>\n",
              "      <td>1</td>\n",
              "      <td>2018</td>\n",
              "    </tr>\n",
              "  </tbody>\n",
              "</table>\n",
              "<p>186 rows × 4 columns</p>\n",
              "</div>"
            ],
            "text/plain": [
              "     Deputados federais eleitos  ...                                     Ano da eleição\n",
              "0            Inocêncio Oliveira  ...  1974, 1978, 1982, 1986, 1990, 1994, 1998, 2002...\n",
              "1                Osvaldo Coelho  ...     1966, 1978, 1982, 1986, 1990, 1994, 1998, 2002\n",
              "2        Ricardo Fiuza[nota 11]  ...     1970, 1974, 1978, 1982, 1986, 1990, 1998, 2002\n",
              "3              Gonzaga Patriota  ...     1986, 1994, 1998, 2002, 2006, 2010, 2014, 2018\n",
              "4         José Mendonça Bezerra  ...           1982, 1986, 1990, 1994, 1998, 2002, 2006\n",
              "..                          ...  ...                                                ...\n",
              "181  João Campos[5][6][nota 35]  ...                                               2018\n",
              "182              Marília Arraes  ...                                               2018\n",
              "183               Ossesio Silva  ...                                               2018\n",
              "184          Sílvio Costa Filho  ...                                               2018\n",
              "185               Túlio Gadêlha  ...                                               2018\n",
              "\n",
              "[186 rows x 4 columns]"
            ]
          },
          "metadata": {},
          "execution_count": 31
        }
      ]
    },
    {
      "cell_type": "markdown",
      "metadata": {
        "id": "sH2vxDc9nnlb"
      },
      "source": [
        "Super rápido e simples! <br>\n",
        "Agora você pode usar os métodos Pandas para manipular o DataFrame como preferir, por exemplo trazerendo os 5 primeiros resultados do DataFrame usando o `head()`..."
      ]
    },
    {
      "cell_type": "code",
      "metadata": {
        "id": "LH5QcPocn_Xm"
      },
      "source": [
        "deputados_pe.head()"
      ],
      "execution_count": null,
      "outputs": []
    },
    {
      "cell_type": "markdown",
      "metadata": {
        "id": "oF6HsvAqmnur"
      },
      "source": [
        "...ou usando o `groupby` para descobrindo onde nasceu a maioria dos deputados eleitos. \n"
      ]
    },
    {
      "cell_type": "code",
      "metadata": {
        "colab": {
          "base_uri": "https://localhost:8080/"
        },
        "id": "Etv4VokTm2AL",
        "outputId": "d8465cb1-3e6b-47f2-e72c-7cf4e4adab0d"
      },
      "source": [
        "deputados_pe.groupby('Naturalidade')['Ano da eleição'].count().sort_values(ascending=False)"
      ],
      "execution_count": null,
      "outputs": [
        {
          "output_type": "execute_result",
          "data": {
            "text/plain": [
              "Naturalidade\n",
              "Recife, PE                   80\n",
              "Caruaru, PE                   6\n",
              "Nazaré da Mata, PE            5\n",
              "Limoeiro, PE                  4\n",
              "Rio de Janeiro, RJ            4\n",
              "                             ..\n",
              "Igarassu, PE                  1\n",
              "Guarabira, PB                 1\n",
              "Glória do Goitá, PE           1\n",
              "São Bento do Norte, RN        1\n",
              "Afogados da Ingazeira, PE     1\n",
              "Name: Ano da eleição, Length: 66, dtype: int64"
            ]
          },
          "metadata": {},
          "execution_count": 33
        }
      ]
    },
    {
      "cell_type": "markdown",
      "metadata": {
        "id": "A1fiBo0WpCTM"
      },
      "source": [
        "Enfim, as possibilidades são inúmeras, use sua curiosidade e criatividade e caso deseje, salve os resultados no final em um csv."
      ]
    }
  ]
}